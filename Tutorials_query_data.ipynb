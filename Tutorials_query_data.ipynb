{
 "cells": [
  {
   "cell_type": "code",
   "execution_count": 1,
   "metadata": {
    "ExecuteTime": {
     "end_time": "2024-08-31T09:07:28.118000Z",
     "start_time": "2024-08-31T09:07:27.630000Z"
    }
   },
   "outputs": [],
   "source": [
    "import qmpy_rester as qr\n",
    "import requests\n",
    "import pandas as pd\n",
    "import numpy as np"
   ]
  },
  {
   "cell_type": "markdown",
   "metadata": {},
   "source": [
    "We use **qmpy_rester** to query data from **OQMD**. Here we query Heusler alloy with formation energy less than 0 eV according to the **prototype** entry.  In this example, we first queried 10 Heusler alloys."
   ]
  },
  {
   "cell_type": "code",
   "execution_count": 2,
   "metadata": {
    "ExecuteTime": {
     "end_time": "2024-08-31T09:07:31.463000Z",
     "start_time": "2024-08-31T09:07:28.119000Z"
    }
   },
   "outputs": [
    {
     "name": "stdout",
     "output_type": "stream",
     "text": [
      "Your filters are:\n",
      "    limit=10\n",
      "    offset=2500\n",
      "    filter=delta_e<0 AND prototype=L2_1_FullHeusler_Cu2MnAl\n"
     ]
    }
   ],
   "source": [
    "with qr.QMPYRester() as q:\n",
    "    kwargs = {'delta_e':'<0','prototype':'L2_1_FullHeusler_Cu2MnAl','limit':'10','offset':'2500'}\n",
    "    list_of_data = q.get_oqmd_phases(**kwargs)"
   ]
  },
  {
   "cell_type": "markdown",
   "metadata": {},
   "source": [
    "The following is a Heusler alloy data queried by this way."
   ]
  },
  {
   "cell_type": "code",
   "execution_count": 3,
   "metadata": {
    "ExecuteTime": {
     "end_time": "2024-08-31T09:07:31.482000Z",
     "start_time": "2024-08-31T09:07:31.465000Z"
    }
   },
   "outputs": [
    {
     "data": {
      "text/plain": [
       "{'name': 'PrAsPt2',\n",
       " 'entry_id': 365077,\n",
       " 'calculation_id': 436937,\n",
       " 'icsd_id': None,\n",
       " 'formationenergy_id': 4193049,\n",
       " 'duplicate_entry_id': 365077,\n",
       " 'composition': 'As1 Pr1 Pt2',\n",
       " 'composition_generic': 'ABC2',\n",
       " 'prototype': 'L2_1_FullHeusler_Cu2MnAl',\n",
       " 'spacegroup': 'Fm-3m',\n",
       " 'volume': 79.4988,\n",
       " 'ntypes': 3,\n",
       " 'natoms': 4,\n",
       " 'unit_cell': [[0.0, 3.412795, 3.412795],\n",
       "  [3.412795, 0.0, 3.412795],\n",
       "  [3.412795, 3.412795, 0.0]],\n",
       " 'sites': ['As @ 0.25 0.25 0.25',\n",
       "  'Pr @ 0.75 0.75 0.75',\n",
       "  'Pt @ 0 0 0',\n",
       "  'Pt @ 0.5 0.5 0.5'],\n",
       " 'band_gap': 0.0,\n",
       " 'delta_e': -0.529910223124999,\n",
       " 'stability': 0.4825373198400049,\n",
       " 'fit': 'standard',\n",
       " 'calculation_label': 'standard'}"
      ]
     },
     "execution_count": 3,
     "metadata": {},
     "output_type": "execute_result"
    }
   ],
   "source": [
    "list_of_data['data'][0]"
   ]
  },
  {
   "cell_type": "markdown",
   "metadata": {},
   "source": [
    "During the actual query process, due to the unstable network connection, we conducted the query part by part."
   ]
  },
  {
   "cell_type": "code",
   "execution_count": 4,
   "metadata": {
    "ExecuteTime": {
     "end_time": "2024-08-31T09:07:31.576000Z",
     "start_time": "2024-08-31T09:07:31.487000Z"
    }
   },
   "outputs": [],
   "source": [
    "# i=0\n",
    "# while True:\n",
    "#     with qr.QMPYRester() as q:\n",
    "#         kwargs = {'delta_e':'<0','prototype':'L2_1_FullHeusler_Cu2MnAl','limit':'2500','offset':str(i*2500)}\n",
    "#         list_of_data = q.get_oqmd_phases(**kwargs)\n",
    "#     print('data draw compeleted',end='')\n",
    "#     if len(list_of_data['data'])==0:\n",
    "#         break\n",
    "#     for j in range(len(list_of_data['data'])):\n",
    "#         for k in list_of_data['data'][0].keys():\n",
    "#             Heusler_data[k].append(list_of_data['data'][j][k])\n",
    "#             print('\\r data read into dict finish',j,'/2500',end='')\n",
    "#     print('\\r Execution times',i,'Heusler data len',len(Heusler_data['name']))\n",
    "#     i+=1"
   ]
  },
  {
   "cell_type": "markdown",
   "metadata": {},
   "source": [
    "After the query is complete, we write the results to **DataFrame** for later filtering."
   ]
  },
  {
   "cell_type": "code",
   "execution_count": 5,
   "metadata": {
    "ExecuteTime": {
     "end_time": "2024-08-31T09:07:31.719000Z",
     "start_time": "2024-08-31T09:07:31.580000Z"
    }
   },
   "outputs": [],
   "source": [
    "dq = {}\n",
    "for key in list_of_data['data'][0].keys():\n",
    "    dq[key] = []\n",
    "for data in list_of_data['data']:\n",
    "    for key in dq.keys():\n",
    "        dq[key].append(data[key])"
   ]
  },
  {
   "cell_type": "code",
   "execution_count": 6,
   "metadata": {
    "ExecuteTime": {
     "end_time": "2024-08-31T09:07:31.802000Z",
     "start_time": "2024-08-31T09:07:31.722000Z"
    }
   },
   "outputs": [],
   "source": [
    "dfH = pd.DataFrame.from_dict(dq)"
   ]
  },
  {
   "cell_type": "code",
   "execution_count": 7,
   "metadata": {
    "ExecuteTime": {
     "end_time": "2024-08-31T09:07:31.919000Z",
     "start_time": "2024-08-31T09:07:31.803000Z"
    }
   },
   "outputs": [
    {
     "data": {
      "text/html": [
       "<div>\n",
       "<style scoped>\n",
       "    .dataframe tbody tr th:only-of-type {\n",
       "        vertical-align: middle;\n",
       "    }\n",
       "\n",
       "    .dataframe tbody tr th {\n",
       "        vertical-align: top;\n",
       "    }\n",
       "\n",
       "    .dataframe thead th {\n",
       "        text-align: right;\n",
       "    }\n",
       "</style>\n",
       "<table border=\"1\" class=\"dataframe\">\n",
       "  <thead>\n",
       "    <tr style=\"text-align: right;\">\n",
       "      <th></th>\n",
       "      <th>name</th>\n",
       "      <th>entry_id</th>\n",
       "      <th>calculation_id</th>\n",
       "      <th>icsd_id</th>\n",
       "      <th>formationenergy_id</th>\n",
       "      <th>duplicate_entry_id</th>\n",
       "      <th>composition</th>\n",
       "      <th>composition_generic</th>\n",
       "      <th>prototype</th>\n",
       "      <th>spacegroup</th>\n",
       "      <th>volume</th>\n",
       "      <th>ntypes</th>\n",
       "      <th>natoms</th>\n",
       "      <th>unit_cell</th>\n",
       "      <th>sites</th>\n",
       "      <th>band_gap</th>\n",
       "      <th>delta_e</th>\n",
       "      <th>stability</th>\n",
       "      <th>fit</th>\n",
       "      <th>calculation_label</th>\n",
       "    </tr>\n",
       "  </thead>\n",
       "  <tbody>\n",
       "    <tr>\n",
       "      <th>0</th>\n",
       "      <td>PrAsPt2</td>\n",
       "      <td>365077</td>\n",
       "      <td>436937</td>\n",
       "      <td>None</td>\n",
       "      <td>4193049</td>\n",
       "      <td>365077</td>\n",
       "      <td>As1 Pr1 Pt2</td>\n",
       "      <td>ABC2</td>\n",
       "      <td>L2_1_FullHeusler_Cu2MnAl</td>\n",
       "      <td>Fm-3m</td>\n",
       "      <td>79.4988</td>\n",
       "      <td>3</td>\n",
       "      <td>4</td>\n",
       "      <td>[[0.0, 3.412795, 3.412795], [3.412795, 0.0, 3....</td>\n",
       "      <td>[As @ 0.25 0.25 0.25, Pr @ 0.75 0.75 0.75, Pt ...</td>\n",
       "      <td>0.0</td>\n",
       "      <td>-0.52991</td>\n",
       "      <td>0.482537</td>\n",
       "      <td>standard</td>\n",
       "      <td>standard</td>\n",
       "    </tr>\n",
       "  </tbody>\n",
       "</table>\n",
       "</div>"
      ],
      "text/plain": [
       "      name  entry_id  calculation_id icsd_id  formationenergy_id  \\\n",
       "0  PrAsPt2    365077          436937    None             4193049   \n",
       "\n",
       "   duplicate_entry_id  composition composition_generic  \\\n",
       "0              365077  As1 Pr1 Pt2                ABC2   \n",
       "\n",
       "                  prototype spacegroup   volume  ntypes  natoms  \\\n",
       "0  L2_1_FullHeusler_Cu2MnAl      Fm-3m  79.4988       3       4   \n",
       "\n",
       "                                           unit_cell  \\\n",
       "0  [[0.0, 3.412795, 3.412795], [3.412795, 0.0, 3....   \n",
       "\n",
       "                                               sites  band_gap  delta_e  \\\n",
       "0  [As @ 0.25 0.25 0.25, Pr @ 0.75 0.75 0.75, Pt ...       0.0 -0.52991   \n",
       "\n",
       "   stability       fit calculation_label  \n",
       "0   0.482537  standard          standard  "
      ]
     },
     "execution_count": 7,
     "metadata": {},
     "output_type": "execute_result"
    }
   ],
   "source": [
    "dfH[:1]"
   ]
  },
  {
   "cell_type": "markdown",
   "metadata": {},
   "source": [
    "The alloy is then further filtered for the specified element range and the data is further processed."
   ]
  },
  {
   "cell_type": "code",
   "execution_count": 8,
   "metadata": {
    "ExecuteTime": {
     "end_time": "2024-08-31T09:07:32.014000Z",
     "start_time": "2024-08-31T09:07:31.926000Z"
    }
   },
   "outputs": [],
   "source": [
    "X=['Li','Mg','Ti','V','Mn','Fe','Co','Ni','Cu','Ru',\n",
    "   'Rh','Pd','Ag','Cd','Ir','Pt','Au','Os','Sc','Cr']\n",
    "Y=['Sc','Ti','V' ,'Cr','Mn','Fe','Co',\n",
    "   'Ni','Cu','Zn','Y' ,'Zr','Nb','Mo','Ru','Ag','Hf',\n",
    "   'Ta','W' ,'Pt','La','Ce','Pr','Nd','Sm','Gd','Tb',\n",
    "   'Dy','Ho','Er','Tm','Yb','Lu']\n",
    "Z=['Mg','Zn','B' ,'Al','Si','Ga','Ge','As','In','Sn',\n",
    "   'Sb','Pb','Bi','Tl','P']"
   ]
  },
  {
   "cell_type": "code",
   "execution_count": 9,
   "metadata": {
    "ExecuteTime": {
     "end_time": "2024-08-31T09:07:32.102000Z",
     "start_time": "2024-08-31T09:07:32.017000Z"
    }
   },
   "outputs": [],
   "source": [
    "x=[];y=[];z=[];E_formation=[];E_above_hull=[];entry_id=[];lattice=[];calculation_id=[]\n",
    "Heusler=[]\n",
    "for i in range(len(dfH.index)):\n",
    "    composition=dfH.at[i,'composition']\n",
    "    a=[];b=[];c=[]\n",
    "    for e in composition.split(' '):\n",
    "        if e[-1]=='2' and e[:-1] in X:\n",
    "            a.append(e[:-1])\n",
    "        elif e[:-1] in Z:\n",
    "            c.append(e[:-1])\n",
    "        elif e[:-1] in Y:\n",
    "            b.append(e[:-1])\n",
    "    if len(a)==1 and len(b)==1 and len(c)==1:\n",
    "        x.append(a[0]);y.append(b[0]);z.append(c[0])\n",
    "        Heusler.append(a[0]+'2'+b[0]+c[0])\n",
    "        E_formation.append(dfH.at[i,'delta_e'])\n",
    "        E_above_hull.append(dfH.at[i,'stability'])\n",
    "        entry_id.append(dfH.at[i,'entry_id'])\n",
    "        calculation_id.append(dfH.at[i,'calculation_id'])\n",
    "        v=float(dfH.at[i,'volume'])\n",
    "        lattice.append(np.cbrt(v*4))"
   ]
  },
  {
   "cell_type": "code",
   "execution_count": 10,
   "metadata": {
    "ExecuteTime": {
     "end_time": "2024-08-31T09:07:32.213000Z",
     "start_time": "2024-08-31T09:07:32.105000Z"
    }
   },
   "outputs": [
    {
     "data": {
      "text/html": [
       "<div>\n",
       "<style scoped>\n",
       "    .dataframe tbody tr th:only-of-type {\n",
       "        vertical-align: middle;\n",
       "    }\n",
       "\n",
       "    .dataframe tbody tr th {\n",
       "        vertical-align: top;\n",
       "    }\n",
       "\n",
       "    .dataframe thead th {\n",
       "        text-align: right;\n",
       "    }\n",
       "</style>\n",
       "<table border=\"1\" class=\"dataframe\">\n",
       "  <thead>\n",
       "    <tr style=\"text-align: right;\">\n",
       "      <th></th>\n",
       "      <th>entry_id</th>\n",
       "      <th>calculation_id</th>\n",
       "      <th>composition</th>\n",
       "      <th>lattice_constant</th>\n",
       "      <th>X</th>\n",
       "      <th>Y</th>\n",
       "      <th>Z</th>\n",
       "      <th>E_formation</th>\n",
       "      <th>E_above_hull</th>\n",
       "    </tr>\n",
       "  </thead>\n",
       "  <tbody>\n",
       "    <tr>\n",
       "      <th>0</th>\n",
       "      <td>365077</td>\n",
       "      <td>436937</td>\n",
       "      <td>Pt2PrAs</td>\n",
       "      <td>6.825590</td>\n",
       "      <td>Pt</td>\n",
       "      <td>Pr</td>\n",
       "      <td>As</td>\n",
       "      <td>-0.529910</td>\n",
       "      <td>0.482537</td>\n",
       "    </tr>\n",
       "    <tr>\n",
       "      <th>1</th>\n",
       "      <td>365080</td>\n",
       "      <td>436949</td>\n",
       "      <td>Pt2YTl</td>\n",
       "      <td>6.817099</td>\n",
       "      <td>Pt</td>\n",
       "      <td>Y</td>\n",
       "      <td>Tl</td>\n",
       "      <td>-0.682228</td>\n",
       "      <td>0.135337</td>\n",
       "    </tr>\n",
       "  </tbody>\n",
       "</table>\n",
       "</div>"
      ],
      "text/plain": [
       "   entry_id  calculation_id composition  lattice_constant   X   Y   Z  \\\n",
       "0    365077          436937     Pt2PrAs          6.825590  Pt  Pr  As   \n",
       "1    365080          436949      Pt2YTl          6.817099  Pt   Y  Tl   \n",
       "\n",
       "   E_formation  E_above_hull  \n",
       "0    -0.529910      0.482537  \n",
       "1    -0.682228      0.135337  "
      ]
     },
     "execution_count": 10,
     "metadata": {},
     "output_type": "execute_result"
    }
   ],
   "source": [
    "dfH=pd.DataFrame.from_dict({'entry_id':entry_id,'calculation_id':calculation_id,'composition':Heusler,'lattice_constant':lattice,'X':x,'Y':y,'Z':z,'E_formation':E_formation,'E_above_hull':E_above_hull})\n",
    "dfH.sort_values(by=['X','Y','Z'],inplace=True)\n",
    "dfH.reset_index(inplace=True,drop=True)\n",
    "dfH"
   ]
  },
  {
   "cell_type": "markdown",
   "metadata": {},
   "source": [
    "In order to obtain information such as charge transfer and magnetic distance, we grab data directly from the web page based on id. Of course, it doesn't feel like the best solution. Perhaps you can find other formal channels to access this data."
   ]
  },
  {
   "cell_type": "code",
   "execution_count": 11,
   "metadata": {
    "ExecuteTime": {
     "end_time": "2024-08-31T09:07:32.298000Z",
     "start_time": "2024-08-31T09:07:32.215000Z"
    }
   },
   "outputs": [],
   "source": [
    "# define the grab function\n",
    "def draw_information(htp):\n",
    "    wtext = requests.get(htp).text\n",
    "    tabel=[];input_setting=[]\n",
    "    next_mag=False;grep_set_line=None\n",
    "    text=wtext.split(\"\\n\")\n",
    "    for i,line in enumerate(text):\n",
    "        if '<td>' in line and '</td>' in line:\n",
    "            char=line.split('<td>')[1].split('</td>')[0]\n",
    "            tabel.append(char)\n",
    "        elif '<h2>' in line and '</h2>' in line:\n",
    "            char=line.split('<h2>')[1].split('</h2>')[0]\n",
    "            if char == ' INCAR settings ' or char == ' Potentials ':\n",
    "                grep_set_line=i+2\n",
    "        elif i == grep_set_line:\n",
    "            input_setting.append(line)\n",
    "    \n",
    "    if tabel[5]==' ':\n",
    "        net_magnetic_moment=0\n",
    "    else:\n",
    "        net_magnetic_moment=float(tabel[5])\n",
    "    elements=[tabel[35],tabel[44],tabel[53],tabel[62]]\n",
    "    chargs=[tabel[42],tabel[51],tabel[60],tabel[69]]\n",
    "    atom_mags=[tabel[43],tabel[52],tabel[61],tabel[70]]\n",
    "    magmoms=[]\n",
    "    if 'MAGMOM = ' not in input_setting[0]:\n",
    "        magmoms=[0,0,0,0]\n",
    "    else :\n",
    "        for m in input_setting[0].split('MAGMOM = ')[1].split('</p>')[0].split(' '):\n",
    "            for j in range(int(m.split('*')[0])):\n",
    "                magmoms.append(m.split('*')[1])\n",
    "    potentials=[]\n",
    "    for p in input_setting[1].split(','):\n",
    "        potentials.append(p.split('PBE')[0].split()[0])\n",
    "    \n",
    "    result={'net_magnetic_moment':net_magnetic_moment,'elements':elements,'chargs':chargs,\n",
    "            'atom_mags':atom_mags,'magmoms':magmoms,'potentials':potentials}\n",
    "    return result"
   ]
  },
  {
   "cell_type": "code",
   "execution_count": 12,
   "metadata": {
    "ExecuteTime": {
     "end_time": "2024-08-31T09:07:50.757000Z",
     "start_time": "2024-08-31T09:07:32.301000Z"
    }
   },
   "outputs": [],
   "source": [
    "# grab data from website\n",
    "net_magnetic_moment=[];X_charge=[];Y_charge=[];Z_charge=[];X_mag=[];Y_mag=[];Z_mag=[]\n",
    "X_potential=[];Y_potential=[];Z_potential=[];X_magi=[];Y_magi=[];Z_magi=[]\n",
    "\n",
    "for i in range(len(dfH.index)):\n",
    "    cal_id=dfH.at[i,'calculation_id']\n",
    "    X=dfH.at[i,'X'];Y=dfH.at[i,'Y'];Z=dfH.at[i,'Z']\n",
    "    htp='http://oqmd.org/analysis/calculation/'+str(cal_id)\n",
    "    add=draw_information(htp)\n",
    "    net_magnetic_moment=add['net_magnetic_moment']\n",
    "    for j in range(4):\n",
    "        if add['elements'][j].split()[0]==X:\n",
    "            Xc=add['chargs'][j];Xm=add['atom_mags'][j];Xmi=add['magmoms'][j]\n",
    "        elif add['elements'][j].split()[0]==Y:\n",
    "            Yc=add['chargs'][j];Ym=add['atom_mags'][j];Ymi=add['magmoms'][j]\n",
    "        elif add['elements'][j].split()[0]==Z:\n",
    "            Zc=add['chargs'][j];Zm=add['atom_mags'][j];Zmi=add['magmoms'][j]\n",
    "    for j in range(3):\n",
    "        if add['potentials'][j].split('_')[0]==X:\n",
    "            Xp=add['potentials'][j]\n",
    "        elif add['potentials'][j].split('_')[0]==Y:\n",
    "            Yp=add['potentials'][j]\n",
    "        elif add['potentials'][j].split('_')[0]==Z:\n",
    "            Zp=add['potentials'][j]\n",
    "                \n",
    "    X_charge.append(Xc);Y_charge.append(Yc);Z_charge.append(Zc)\n",
    "    X_mag.append(Xm);Y_mag.append(Ym);Z_mag.append(Zm)\n",
    "    X_magi.append(Xmi);Y_magi.append(Ymi);Z_magi.append(Zmi)\n",
    "    X_potential.append(Xp);Y_potential.append(Yp);Z_potential.append(Zp)"
   ]
  },
  {
   "cell_type": "markdown",
   "metadata": {},
   "source": [
    "Combine the two pieces of information to get the final data."
   ]
  },
  {
   "cell_type": "code",
   "execution_count": 13,
   "metadata": {
    "ExecuteTime": {
     "end_time": "2024-08-31T09:07:50.776000Z",
     "start_time": "2024-08-31T09:07:50.763000Z"
    }
   },
   "outputs": [],
   "source": [
    "dd={'net_magnetic_moment':net_magnetic_moment,'X_charge':X_charge,'Y_charge':Y_charge,'Z_charge':Z_charge,'X_mag':X_mag,'Y_mag':Y_mag,'Z_mag':Z_mag,'X_magi':X_magi,'Y_magi':Y_magi,'Z_magi':Z_magi,'X_potential':X_potential,'Y_potential':Y_potential,'Z_potential':Z_potential}\n",
    "dfi=pd.DataFrame.from_dict(dd)"
   ]
  },
  {
   "cell_type": "code",
   "execution_count": 14,
   "metadata": {
    "ExecuteTime": {
     "end_time": "2024-08-31T09:07:50.920000Z",
     "start_time": "2024-08-31T09:07:50.778000Z"
    }
   },
   "outputs": [
    {
     "data": {
      "text/html": [
       "<div>\n",
       "<style scoped>\n",
       "    .dataframe tbody tr th:only-of-type {\n",
       "        vertical-align: middle;\n",
       "    }\n",
       "\n",
       "    .dataframe tbody tr th {\n",
       "        vertical-align: top;\n",
       "    }\n",
       "\n",
       "    .dataframe thead th {\n",
       "        text-align: right;\n",
       "    }\n",
       "</style>\n",
       "<table border=\"1\" class=\"dataframe\">\n",
       "  <thead>\n",
       "    <tr style=\"text-align: right;\">\n",
       "      <th></th>\n",
       "      <th>net_magnetic_moment</th>\n",
       "      <th>X_charge</th>\n",
       "      <th>Y_charge</th>\n",
       "      <th>Z_charge</th>\n",
       "      <th>X_mag</th>\n",
       "      <th>Y_mag</th>\n",
       "      <th>Z_mag</th>\n",
       "      <th>X_magi</th>\n",
       "      <th>Y_magi</th>\n",
       "      <th>Z_magi</th>\n",
       "      <th>X_potential</th>\n",
       "      <th>Y_potential</th>\n",
       "      <th>Z_potential</th>\n",
       "    </tr>\n",
       "  </thead>\n",
       "  <tbody>\n",
       "    <tr>\n",
       "      <th>0</th>\n",
       "      <td>0</td>\n",
       "      <td>8.757</td>\n",
       "      <td>8.936</td>\n",
       "      <td>2.583</td>\n",
       "      <td>0</td>\n",
       "      <td>0</td>\n",
       "      <td>0</td>\n",
       "      <td>5.0000</td>\n",
       "      <td>7.0000</td>\n",
       "      <td>0.0000</td>\n",
       "      <td>Pt</td>\n",
       "      <td>Pr_3</td>\n",
       "      <td>As</td>\n",
       "    </tr>\n",
       "    <tr>\n",
       "      <th>1</th>\n",
       "      <td>0</td>\n",
       "      <td>8.766</td>\n",
       "      <td>9.187</td>\n",
       "      <td>11.281</td>\n",
       "      <td>0</td>\n",
       "      <td>0</td>\n",
       "      <td>0</td>\n",
       "      <td>5.0000</td>\n",
       "      <td>5.0000</td>\n",
       "      <td>0.0000</td>\n",
       "      <td>Pt</td>\n",
       "      <td>Y_sv</td>\n",
       "      <td>Tl_d</td>\n",
       "    </tr>\n",
       "  </tbody>\n",
       "</table>\n",
       "</div>"
      ],
      "text/plain": [
       "   net_magnetic_moment X_charge Y_charge Z_charge X_mag Y_mag Z_mag  X_magi  \\\n",
       "0                    0    8.757    8.936    2.583     0     0     0  5.0000   \n",
       "1                    0    8.766    9.187   11.281     0     0     0  5.0000   \n",
       "\n",
       "   Y_magi  Z_magi X_potential Y_potential Z_potential  \n",
       "0  7.0000  0.0000          Pt        Pr_3          As  \n",
       "1  5.0000  0.0000          Pt        Y_sv        Tl_d  "
      ]
     },
     "execution_count": 14,
     "metadata": {},
     "output_type": "execute_result"
    }
   ],
   "source": [
    "dfi"
   ]
  },
  {
   "cell_type": "code",
   "execution_count": 15,
   "metadata": {
    "ExecuteTime": {
     "end_time": "2024-08-31T09:07:51.036000Z",
     "start_time": "2024-08-31T09:07:50.932000Z"
    }
   },
   "outputs": [],
   "source": [
    "df = pd.concat([dfH, dfi], axis=1)"
   ]
  },
  {
   "cell_type": "code",
   "execution_count": 16,
   "metadata": {
    "ExecuteTime": {
     "end_time": "2024-08-31T09:07:51.170000Z",
     "start_time": "2024-08-31T09:07:51.039000Z"
    }
   },
   "outputs": [
    {
     "data": {
      "text/html": [
       "<div>\n",
       "<style scoped>\n",
       "    .dataframe tbody tr th:only-of-type {\n",
       "        vertical-align: middle;\n",
       "    }\n",
       "\n",
       "    .dataframe tbody tr th {\n",
       "        vertical-align: top;\n",
       "    }\n",
       "\n",
       "    .dataframe thead th {\n",
       "        text-align: right;\n",
       "    }\n",
       "</style>\n",
       "<table border=\"1\" class=\"dataframe\">\n",
       "  <thead>\n",
       "    <tr style=\"text-align: right;\">\n",
       "      <th></th>\n",
       "      <th>entry_id</th>\n",
       "      <th>calculation_id</th>\n",
       "      <th>composition</th>\n",
       "      <th>lattice_constant</th>\n",
       "      <th>X</th>\n",
       "      <th>Y</th>\n",
       "      <th>Z</th>\n",
       "      <th>E_formation</th>\n",
       "      <th>E_above_hull</th>\n",
       "      <th>net_magnetic_moment</th>\n",
       "      <th>...</th>\n",
       "      <th>Z_charge</th>\n",
       "      <th>X_mag</th>\n",
       "      <th>Y_mag</th>\n",
       "      <th>Z_mag</th>\n",
       "      <th>X_magi</th>\n",
       "      <th>Y_magi</th>\n",
       "      <th>Z_magi</th>\n",
       "      <th>X_potential</th>\n",
       "      <th>Y_potential</th>\n",
       "      <th>Z_potential</th>\n",
       "    </tr>\n",
       "  </thead>\n",
       "  <tbody>\n",
       "    <tr>\n",
       "      <th>0</th>\n",
       "      <td>365077</td>\n",
       "      <td>436937</td>\n",
       "      <td>Pt2PrAs</td>\n",
       "      <td>6.825590</td>\n",
       "      <td>Pt</td>\n",
       "      <td>Pr</td>\n",
       "      <td>As</td>\n",
       "      <td>-0.529910</td>\n",
       "      <td>0.482537</td>\n",
       "      <td>0</td>\n",
       "      <td>...</td>\n",
       "      <td>2.583</td>\n",
       "      <td>0</td>\n",
       "      <td>0</td>\n",
       "      <td>0</td>\n",
       "      <td>5.0000</td>\n",
       "      <td>7.0000</td>\n",
       "      <td>0.0000</td>\n",
       "      <td>Pt</td>\n",
       "      <td>Pr_3</td>\n",
       "      <td>As</td>\n",
       "    </tr>\n",
       "    <tr>\n",
       "      <th>1</th>\n",
       "      <td>365080</td>\n",
       "      <td>436949</td>\n",
       "      <td>Pt2YTl</td>\n",
       "      <td>6.817099</td>\n",
       "      <td>Pt</td>\n",
       "      <td>Y</td>\n",
       "      <td>Tl</td>\n",
       "      <td>-0.682228</td>\n",
       "      <td>0.135337</td>\n",
       "      <td>0</td>\n",
       "      <td>...</td>\n",
       "      <td>11.281</td>\n",
       "      <td>0</td>\n",
       "      <td>0</td>\n",
       "      <td>0</td>\n",
       "      <td>5.0000</td>\n",
       "      <td>5.0000</td>\n",
       "      <td>0.0000</td>\n",
       "      <td>Pt</td>\n",
       "      <td>Y_sv</td>\n",
       "      <td>Tl_d</td>\n",
       "    </tr>\n",
       "  </tbody>\n",
       "</table>\n",
       "<p>2 rows × 22 columns</p>\n",
       "</div>"
      ],
      "text/plain": [
       "   entry_id  calculation_id composition  lattice_constant   X   Y   Z  \\\n",
       "0    365077          436937     Pt2PrAs          6.825590  Pt  Pr  As   \n",
       "1    365080          436949      Pt2YTl          6.817099  Pt   Y  Tl   \n",
       "\n",
       "   E_formation  E_above_hull  net_magnetic_moment  ... Z_charge X_mag Y_mag  \\\n",
       "0    -0.529910      0.482537                    0  ...    2.583     0     0   \n",
       "1    -0.682228      0.135337                    0  ...   11.281     0     0   \n",
       "\n",
       "  Z_mag  X_magi  Y_magi  Z_magi X_potential Y_potential Z_potential  \n",
       "0     0  5.0000  7.0000  0.0000          Pt        Pr_3          As  \n",
       "1     0  5.0000  5.0000  0.0000          Pt        Y_sv        Tl_d  \n",
       "\n",
       "[2 rows x 22 columns]"
      ]
     },
     "execution_count": 16,
     "metadata": {},
     "output_type": "execute_result"
    }
   ],
   "source": [
    "df"
   ]
  },
  {
   "cell_type": "markdown",
   "metadata": {},
   "source": [
    "Finally, **pymatgen** is used to create the block structure, fixing the position of each atom to ensure the efficiency of batch cutting."
   ]
  },
  {
   "cell_type": "code",
   "execution_count": 17,
   "metadata": {
    "ExecuteTime": {
     "end_time": "2024-08-31T09:07:51.439000Z",
     "start_time": "2024-08-31T09:07:51.172000Z"
    }
   },
   "outputs": [],
   "source": [
    "from pymatgen.core import Lattice,Structure\n",
    "from pymatgen.symmetry.analyzer import SpacegroupAnalyzer\n",
    "\n",
    "def make_heusler(elements,lattice_constant):\n",
    "    X = elements[0] ; Y = elements[1] ; Z = elements[2]\n",
    "\n",
    "    coordinate = [\n",
    "        [0.75]*2+[0.25],[0.25]*2+[0.75],[0.25]*3,[0.75]*3,\n",
    "        [0.25]+[0.75]*2,[0.75]+[0.25]*2,[0.75,0.25,0.75],[0.25,0.75,0.25],\n",
    "        [0]*3,[0]+[0.5]*2,[0.5,0,0.5],[0.5]*2+[0],\n",
    "        [0]*2+[0.5],[0.5]+[0]*2,[0,0.5,0],[0.5]*3\n",
    "    ]\n",
    "    lattice=Lattice.from_parameters(a=lattice_constant,b=lattice_constant,c=lattice_constant,\n",
    "                                   alpha=90,beta=90,gamma=90)\n",
    "    element=[X]*8+[Y]*4+[Z]*4\n",
    "\n",
    "    structure = Structure(lattice,element,coordinate)\n",
    "    structure_tp = structure.get_primitive_structure()\n",
    "    \n",
    "    return structure"
   ]
  },
  {
   "cell_type": "code",
   "execution_count": 18,
   "metadata": {
    "ExecuteTime": {
     "end_time": "2024-08-31T09:07:51.468000Z",
     "start_time": "2024-08-31T09:07:51.444000Z"
    }
   },
   "outputs": [
    {
     "data": {
      "text/plain": [
       "Structure Summary\n",
       "Lattice\n",
       "    abc : 6.825589853621066 6.825589853621066 6.825589853621066\n",
       " angles : 90.0 90.0 90.0\n",
       " volume : 317.9951999999999\n",
       "      A : 6.825589853621066 0.0 4.179468383264845e-16\n",
       "      B : 1.0976385641011075e-15 6.825589853621066 4.179468383264845e-16\n",
       "      C : 0.0 0.0 6.825589853621066\n",
       "    pbc : True True True\n",
       "PeriodicSite: Pt (5.1192, 5.1192, 1.7064) [0.7500, 0.7500, 0.2500]\n",
       "PeriodicSite: Pt (1.7064, 1.7064, 5.1192) [0.2500, 0.2500, 0.7500]\n",
       "PeriodicSite: Pt (1.7064, 1.7064, 1.7064) [0.2500, 0.2500, 0.2500]\n",
       "PeriodicSite: Pt (5.1192, 5.1192, 5.1192) [0.7500, 0.7500, 0.7500]\n",
       "PeriodicSite: Pt (1.7064, 5.1192, 5.1192) [0.2500, 0.7500, 0.7500]\n",
       "PeriodicSite: Pt (5.1192, 1.7064, 1.7064) [0.7500, 0.2500, 0.2500]\n",
       "PeriodicSite: Pt (5.1192, 1.7064, 5.1192) [0.7500, 0.2500, 0.7500]\n",
       "PeriodicSite: Pt (1.7064, 5.1192, 1.7064) [0.2500, 0.7500, 0.2500]\n",
       "PeriodicSite: Pr (0.0000, 0.0000, 0.0000) [0.0000, 0.0000, 0.0000]\n",
       "PeriodicSite: Pr (0.0000, 3.4128, 3.4128) [0.0000, 0.5000, 0.5000]\n",
       "PeriodicSite: Pr (3.4128, 0.0000, 3.4128) [0.5000, 0.0000, 0.5000]\n",
       "PeriodicSite: Pr (3.4128, 3.4128, 0.0000) [0.5000, 0.5000, 0.0000]\n",
       "PeriodicSite: As (0.0000, 0.0000, 3.4128) [0.0000, 0.0000, 0.5000]\n",
       "PeriodicSite: As (3.4128, 0.0000, 0.0000) [0.5000, 0.0000, 0.0000]\n",
       "PeriodicSite: As (0.0000, 3.4128, 0.0000) [0.0000, 0.5000, 0.0000]\n",
       "PeriodicSite: As (3.4128, 3.4128, 3.4128) [0.5000, 0.5000, 0.5000]"
      ]
     },
     "execution_count": 18,
     "metadata": {},
     "output_type": "execute_result"
    }
   ],
   "source": [
    "make_heusler([df.at[0, 'X'], df.at[0, 'Y'], df.at[0, 'Z']], df.at[0, 'lattice_constant'])"
   ]
  }
 ],
 "metadata": {
  "kernelspec": {
   "display_name": "Python 3",
   "language": "python",
   "name": "python3"
  },
  "language_info": {
   "codemirror_mode": {
    "name": "ipython",
    "version": 3
   },
   "file_extension": ".py",
   "mimetype": "text/x-python",
   "name": "python",
   "nbconvert_exporter": "python",
   "pygments_lexer": "ipython3",
   "version": "3.8.0"
  },
  "toc": {
   "base_numbering": 1,
   "nav_menu": {},
   "number_sections": true,
   "sideBar": true,
   "skip_h1_title": false,
   "title_cell": "Table of Contents",
   "title_sidebar": "Contents",
   "toc_cell": false,
   "toc_position": {},
   "toc_section_display": true,
   "toc_window_display": false
  }
 },
 "nbformat": 4,
 "nbformat_minor": 4
}
