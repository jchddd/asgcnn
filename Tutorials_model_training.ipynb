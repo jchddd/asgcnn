{
 "cells": [
  {
   "cell_type": "markdown",
   "id": "a679b72a",
   "metadata": {},
   "source": [
    "# ASGCNN\n",
    "The **adsorbate-site graph convolutional neural network** (**ASGCNN**) has the following architecture. It uses **unrelaxed adsorption  slab** structure as input. A **slab graph** and an **adsorbate-site graph** are then created. Features in these two graphs are convolved and aggregated to predict the **adsorption (free) energy** as well as **categories of adsorbate and adsorption site class**."
   ]
  },
  {
   "cell_type": "code",
   "execution_count": 1,
   "id": "59930e4f",
   "metadata": {},
   "outputs": [],
   "source": [
    "from ASGCNN.Model import ASGCNN, SGCNN, CGCNN\n",
    "from ASGCNN.Trainer import Trainer\n",
    "from ASGCNN.Encoder import Graph_data_loader, Encoder_structure, Encoder_element, Encoder_edge\n",
    "\n",
    "import zipfile\n",
    "import matplotlib.pyplot as plt"
   ]
  },
  {
   "cell_type": "markdown",
   "id": "449d434c",
   "metadata": {},
   "source": [
    "We use tqdm.notebook to show progress bar, if you are not using jupyter notebook or there is problems when using tqdm.notebook, go into Trainer and Encoder scripts, annotation \"**from tqdm.notebook import tqdm as tqdm**\" and use \"**from tqdm import tqdm**\"."
   ]
  },
  {
   "cell_type": "markdown",
   "id": "4a885cd1",
   "metadata": {},
   "source": [
    "# 1. use pretrained model\n",
    "The pre-trained can load directly by the **load_pretrained** on **Trainer**. However, to define a **Trainer**, we must first create **Graph_data_loader**s.  \n",
    "\n",
    "## 1.1 load dataset\n",
    "\n",
    "Three parameters are needed for the creation of **Graph_data_loader**:\n",
    "- a **csv file** that records the target values\n",
    "- a **xx.bin** file that stores graph data (saved by dgl package)\n",
    "- a **list of strings** of column names for the target values in the sequence of adsorbate category, site category and adsorption energy\n",
    "\n",
    "Here, we load the dataset used in literature with 6,000 Heusler alloy adsorption energy data points, which were split into training, validation, and test sets in a ratio of 5000: 500: 500.   \n",
    "\n",
    "Due to the file size limit, we need to extract part of the bin file first"
   ]
  },
  {
   "cell_type": "code",
   "execution_count": 3,
   "id": "2b167006",
   "metadata": {},
   "outputs": [],
   "source": [
    "with zipfile.ZipFile(r'data/Graph_adsb_train.zip', 'r') as zip_ref:\n",
    "    zip_ref.extract('Graph_adsb_train.bin', 'data')\n",
    "    \n",
    "with zipfile.ZipFile(r'data/Graph_slab_train.zip', 'r') as zip_ref:\n",
    "    zip_ref.extract('Graph_slab_train.bin', 'data')"
   ]
  },
  {
   "cell_type": "markdown",
   "id": "5ebcf619",
   "metadata": {},
   "source": [
    "Now, we can create **Graph_data_loader** and load data to it. Note that **batch size** is also specified when the **Graph_data_loader** is created.  "
   ]
  },
  {
   "cell_type": "code",
   "execution_count": 3,
   "id": "3454c975",
   "metadata": {},
   "outputs": [],
   "source": [
    "# list of target column names\n",
    "target = ['Cadsb', 'Csite', 'Gads']\n",
    "\n",
    "# load training set\n",
    "train_excel =  'data/Train_data_5000.csv'\n",
    "Encoders_train = ['data/Graph_adsb_train.bin', 'data/Graph_slab_train.bin']\n",
    "Loader_train = Graph_data_loader(256) # 256 is the specified batch size for Loader_train here\n",
    "Loader_train.load_data(train_excel, Encoders_train, target=target)\n",
    "\n",
    "# load validation set\n",
    "valid_excel = 'data/Valid_data_500.csv'\n",
    "Encoders_valid = ['data/Graph_adsb_valid.bin', 'data/Graph_slab_valid.bin']\n",
    "Loader_valid = Graph_data_loader(500)\n",
    "Loader_valid.load_data(valid_excel, Encoders_valid, target=target)\n",
    "\n",
    "# load test set\n",
    "test_excel = 'data/Test_data_500.csv'\n",
    "Encoders_test = ['data/Graph_adsb_test.bin', 'data/Graph_slab_test.bin']\n",
    "Loader_test = Graph_data_loader(500)\n",
    "Loader_test.load_data(test_excel, Encoders_test, target=target)"
   ]
  },
  {
   "cell_type": "markdown",
   "id": "c9ea5394",
   "metadata": {},
   "source": [
    "If you did not set **batch size** when create **Graph_data_loader**, or you want to change it, you can do this by:"
   ]
  },
  {
   "cell_type": "code",
   "execution_count": 4,
   "id": "678e347b",
   "metadata": {},
   "outputs": [],
   "source": [
    "Loader_train.batch_size = 512"
   ]
  },
  {
   "cell_type": "markdown",
   "id": "e5bcc6e7",
   "metadata": {},
   "source": [
    "Graphs are stored in the **.graphs** attribute of the **Graph_data_loader**. The **.graphs** attribute is a list with a shape of (*number of graph types*, *number of graphs*). For example, the **Loader_train** has two types of graphs (adsorbate-site graph and slab graph), so its shape will be (2, 5000). To access the first slab graph, you should:"
   ]
  },
  {
   "cell_type": "code",
   "execution_count": 5,
   "id": "c862eef2",
   "metadata": {},
   "outputs": [
    {
     "data": {
      "text/plain": [
       "Graph(num_nodes=18, num_edges=168,\n",
       "      ndata_schemes={'symbol': Scheme(shape=(), dtype=torch.int32), 'h_v': Scheme(shape=(101,), dtype=torch.float32)}\n",
       "      edata_schemes={'radius': Scheme(shape=(), dtype=torch.float32), 'h_e': Scheme(shape=(8,), dtype=torch.float32)})"
      ]
     },
     "execution_count": 5,
     "metadata": {},
     "output_type": "execute_result"
    }
   ],
   "source": [
    "g = Loader_train.graphs[1][0]\n",
    "g"
   ]
  },
  {
   "cell_type": "code",
   "execution_count": 6,
   "id": "a903f05d",
   "metadata": {},
   "outputs": [
    {
     "data": {
      "text/plain": [
       "tensor([49, 49, 49, 49, 29, 29, 29, 29,  1, 78, 78, 78, 78, 78, 78, 78, 78,  7],\n",
       "       dtype=torch.int32)"
      ]
     },
     "execution_count": 6,
     "metadata": {},
     "output_type": "execute_result"
    }
   ],
   "source": [
    "g.ndata['symbol']"
   ]
  },
  {
   "cell_type": "markdown",
   "id": "56f303ba",
   "metadata": {},
   "source": [
    "## 1.2 load pre-trained models\n",
    "\n",
    "Then, define the **ASGCNN** model with pre-trained parameters. Pass the model and data loaders together into a **Trainer** and use **.load_pretrained** to load pretrained models.   \n",
    "\n",
    "Note that the task of regression and classification together (**multy**) is currently only applicable to our dataset. To apply it to your task, first go to the **Model.py** script and change the output dimensions of the categorical task."
   ]
  },
  {
   "cell_type": "code",
   "execution_count": 7,
   "id": "7badbae1",
   "metadata": {},
   "outputs": [],
   "source": [
    "# define a model with pre-adjusted hyperparameters \n",
    "Model = ASGCNN(101,6,110,101,8,150,3,[80,120,10],'silu','multy')\n",
    "\n",
    "# create Trainer\n",
    "t=Trainer(Model, Loader_train, Loader_valid, Loader_test, metric='hyb', metric_para=1-0.662)\n",
    "\n",
    "# load pre-trained models\n",
    "t.load_pretrained(location='cpu')"
   ]
  },
  {
   "cell_type": "markdown",
   "id": "59b53005",
   "metadata": {},
   "source": [
    "Now, we can get the same parity plot as in the paper."
   ]
  },
  {
   "cell_type": "code",
   "execution_count": 8,
   "id": "fac3d8c8",
   "metadata": {},
   "outputs": [
    {
     "data": {
      "image/png": "[encoded data removed]",
      "text/plain": [
       "<Figure size 600x600 with 1 Axes>"
      ]
     },
     "metadata": {},
     "output_type": "display_data"
    }
   ],
   "source": [
    "t.show_result()\n",
    "# only when training, validation and test sets are all exist, can this functioin work"
   ]
  },
  {
   "cell_type": "markdown",
   "id": "994239f0",
   "metadata": {},
   "source": [
    "Different metrics can be checked by:"
   ]
  },
  {
   "cell_type": "code",
   "execution_count": 9,
   "id": "c4d601ef",
   "metadata": {},
   "outputs": [
    {
     "data": {
      "text/plain": [
       "{'train': {'f1_1': 1.0,\n",
       "  'f1_2': 1.0,\n",
       "  'ac_1': 1.0,\n",
       "  'ac_2': 1.0,\n",
       "  'pc_1': 1.0,\n",
       "  'pc_2': 1.0,\n",
       "  'rc_1': 1.0,\n",
       "  'rc_2': 1.0,\n",
       "  'r2': 0.9997970084802672,\n",
       "  'mae': 0.012860742,\n",
       "  'mse': 0.00029508275,\n",
       "  'rmse': 0.017177973},\n",
       " 'valid': {'f1_1': 1.0,\n",
       "  'f1_2': 1.0,\n",
       "  'ac_1': 1.0,\n",
       "  'ac_2': 1.0,\n",
       "  'pc_1': 1.0,\n",
       "  'pc_2': 1.0,\n",
       "  'rc_1': 1.0,\n",
       "  'rc_2': 1.0,\n",
       "  'r2': 0.9770201972511355,\n",
       "  'mae': 0.10485716,\n",
       "  'mse': 0.034271825,\n",
       "  'rmse': 0.18512651},\n",
       " 'test': {'f1_1': 1.0,\n",
       "  'f1_2': 1.0,\n",
       "  'ac_1': 1.0,\n",
       "  'ac_2': 1.0,\n",
       "  'pc_1': 1.0,\n",
       "  'pc_2': 1.0,\n",
       "  'rc_1': 1.0,\n",
       "  'rc_2': 1.0,\n",
       "  'r2': 0.9608975034522517,\n",
       "  'mae': 0.1315413,\n",
       "  'mse': 0.058505304,\n",
       "  'rmse': 0.2418787}}"
      ]
     },
     "execution_count": 9,
     "metadata": {},
     "output_type": "execute_result"
    }
   ],
   "source": [
    "t.calculate_static()\n",
    "# only when training, validation and test sets are all exist, can this functioin work"
   ]
  },
  {
   "cell_type": "markdown",
   "id": "14661dcc",
   "metadata": {},
   "source": [
    "## 1.3 make prediction\n",
    "Finally, we show how to make a prediction on a dataset."
   ]
  },
  {
   "cell_type": "code",
   "execution_count": 10,
   "id": "b43a90c0",
   "metadata": {},
   "outputs": [],
   "source": [
    "predict, uq = t.predict(Loader_test, to_class=True, return_uq=True)"
   ]
  },
  {
   "cell_type": "code",
   "execution_count": 11,
   "id": "d7f9139d",
   "metadata": {},
   "outputs": [
    {
     "data": {
      "text/plain": [
       "tensor([[ 0.0000,  0.0000, -0.5184],\n",
       "        [ 3.0000,  0.0000, -1.3138],\n",
       "        [ 2.0000,  3.0000, -2.3946]])"
      ]
     },
     "execution_count": 11,
     "metadata": {},
     "output_type": "execute_result"
    }
   ],
   "source": [
    "Loader_test.target[:3]"
   ]
  },
  {
   "cell_type": "code",
   "execution_count": 12,
   "id": "03473799",
   "metadata": {},
   "outputs": [
    {
     "data": {
      "text/plain": [
       "array([[ 0.        ,  0.        , -0.52548856],\n",
       "       [ 3.        ,  0.        , -1.3168112 ],\n",
       "       [ 2.        ,  3.        , -2.03720617]])"
      ]
     },
     "execution_count": 12,
     "metadata": {},
     "output_type": "execute_result"
    }
   ],
   "source": [
    "predict[:3]"
   ]
  },
  {
   "cell_type": "code",
   "execution_count": 13,
   "id": "d3fa94e9",
   "metadata": {},
   "outputs": [
    {
     "data": {
      "text/plain": [
       "array([0.0228996 , 0.03610364, 0.03876777], dtype=float32)"
      ]
     },
     "execution_count": 13,
     "metadata": {},
     "output_type": "execute_result"
    }
   ],
   "source": [
    "uq[:3]"
   ]
  },
  {
   "cell_type": "markdown",
   "id": "1920b5bb",
   "metadata": {},
   "source": [
    "# 2. train from scratch\n",
    "Here, we show how to train a network from scratch.  \n",
    "\n",
    "Before using these codes for training, you should first prepare vasp structures and csv files that store input structure file names and target values. A Small dataset with 9 structres (6: 3 for training and validation set) is placed at **data/eaxmple** for the demonstration."
   ]
  },
  {
   "cell_type": "markdown",
   "id": "14fac0fd",
   "metadata": {},
   "source": [
    "## 2.1 create dataset\n",
    "\n",
    "First, define **Encoder_structure**s for structure to graph transformation. Here we create two encoders for transforming structures into adsorbate-site graph and slab graph respectively.  \n",
    "\n",
    "The cutoff radius for neighbor atom finding is set to 3.36 by default, which ensures atoms on our **unrelaxed** and **lattice-fixed** slab can only bond to their first and second near neighbor atoms, and adsorbates can only bond to adsorption sites. You should determine this value based on the system you are studying.\n",
    "\n",
    "The creation of **adsorbate-site graph**s is done by deleting substrate atoms that do not bond to adsorbate atoms. This is achieved by using the **element_restrict** parameter; by setting this to the elements of adsorbates, only adsorbate and site atoms will be used to create the graph.  \n",
    "\n",
    "For further clarification about **Encoder_structure**, refer to:"
   ]
  },
  {
   "cell_type": "code",
   "execution_count": null,
   "id": "f9ab505c",
   "metadata": {},
   "outputs": [],
   "source": [
    "help(Encoder_structure)"
   ]
  },
  {
   "cell_type": "code",
   "execution_count": 14,
   "id": "b6ada364",
   "metadata": {},
   "outputs": [],
   "source": [
    "Es_adsb = Encoder_structure(element_restrict={'N','H'})\n",
    "Es_slab = Encoder_structure()"
   ]
  },
  {
   "cell_type": "markdown",
   "id": "89c6bc32",
   "metadata": {},
   "source": [
    "Then, we combine the **Encoder_structure** with the **Graph_data_loader** to load the dataset. When a **Encoder_structure** is passed to **Graph_data_loader**, it will read vasp structures and transform to dgl graphs automatically.  \n",
    "\n",
    "For further clarification about **load_data**, refer to:"
   ]
  },
  {
   "cell_type": "code",
   "execution_count": null,
   "id": "573de2ea",
   "metadata": {},
   "outputs": [],
   "source": [
    "help(Graph_data_loader.load_data)"
   ]
  },
  {
   "cell_type": "code",
   "execution_count": 15,
   "id": "404be11d",
   "metadata": {},
   "outputs": [
    {
     "data": {
      "application/vnd.jupyter.widget-view+json": {
       "model_id": "",
       "version_major": 2,
       "version_minor": 0
      },
      "text/plain": [
       "Load graph:   0%|          | 0/12 [00:00<?, ?g/s]"
      ]
     },
     "metadata": {},
     "output_type": "display_data"
    },
    {
     "data": {
      "application/vnd.jupyter.widget-view+json": {
       "model_id": "",
       "version_major": 2,
       "version_minor": 0
      },
      "text/plain": [
       "Load graph:   0%|          | 0/6 [00:00<?, ?g/s]"
      ]
     },
     "metadata": {},
     "output_type": "display_data"
    }
   ],
   "source": [
    "file_paths = ['data/example/structure', 'data/example/structure']\n",
    "file_columns = ['adsb', 'slab']\n",
    "target = ['Gads']\n",
    "\n",
    "Encoders = [Es_adsb, Es_slab]\n",
    "\n",
    "# load training set\n",
    "train_excel =  'data/example/Train_6.csv'\n",
    "Loader_train = Graph_data_loader(3)\n",
    "Loader_train.load_data(train_excel, Encoders, file_paths, file_columns, target=target)\n",
    "\n",
    "# load validation set\n",
    "valid_excel = 'data/example/Valid_3.csv'\n",
    "Loader_valid = Graph_data_loader(3)\n",
    "Loader_valid.load_data(valid_excel, Encoders, file_paths, file_columns, target=target)"
   ]
  },
  {
   "cell_type": "markdown",
   "id": "4add6c27",
   "metadata": {},
   "source": [
    "After that, we need to define the feature encoder for the nodes (**Encoder_element**) and edges (**Encoder_edge**) and create corresponding features on the graph using (**.apply_feature** on data loader).  \n",
    "\n",
    "For further clarification about **Encoder_element** and **Encoder_edge**, refer to:"
   ]
  },
  {
   "cell_type": "code",
   "execution_count": null,
   "id": "03cfb6f3",
   "metadata": {},
   "outputs": [],
   "source": [
    "help(Encoder_element)"
   ]
  },
  {
   "cell_type": "code",
   "execution_count": null,
   "id": "d5821daa",
   "metadata": {},
   "outputs": [],
   "source": [
    "help(Encoder_edge)"
   ]
  },
  {
   "cell_type": "code",
   "execution_count": 16,
   "id": "2528cc2e",
   "metadata": {},
   "outputs": [],
   "source": [
    "# feature encoder for adsorbate-site graph\n",
    "Ef_node_adsb = Encoder_element(features=['group', 'period', 'electronegativity', 'radius', 'density', 'Zeff'])\n",
    "Ef_edge_adsb = Encoder_edge(features=['category'])\n",
    "# feature encoder for slab graph\n",
    "Ef_node_slab = Encoder_element(features=['group', 'period', 'electronegativity', 'radius', 'affinity', 'weight'])\n",
    "Ef_edge_slab = Encoder_edge(features=['category','distance'])"
   ]
  },
  {
   "cell_type": "markdown",
   "id": "4b2fe4b5",
   "metadata": {},
   "source": [
    "Then, deliver feature encoders to **Graph_data_loader**s."
   ]
  },
  {
   "cell_type": "code",
   "execution_count": 17,
   "id": "9c8eb5f1",
   "metadata": {},
   "outputs": [
    {
     "data": {
      "application/vnd.jupyter.widget-view+json": {
       "model_id": "",
       "version_major": 2,
       "version_minor": 0
      },
      "text/plain": [
       "Apply feature:   0%|          | 0/12 [00:00<?, ?g/s]"
      ]
     },
     "metadata": {},
     "output_type": "display_data"
    },
    {
     "data": {
      "application/vnd.jupyter.widget-view+json": {
       "model_id": "",
       "version_major": 2,
       "version_minor": 0
      },
      "text/plain": [
       "Apply feature:   0%|          | 0/6 [00:00<?, ?g/s]"
      ]
     },
     "metadata": {},
     "output_type": "display_data"
    }
   ],
   "source": [
    "Loader_train.apply_feature([Ef_node_slab, Ef_node_adsb],[Ef_edge_slab, Ef_edge_adsb])\n",
    "Loader_valid.apply_feature([Ef_node_slab, Ef_node_adsb],[Ef_edge_slab, Ef_edge_adsb])"
   ]
  },
  {
   "cell_type": "markdown",
   "id": "23524ff6",
   "metadata": {},
   "source": [
    "Once the feature is apply, you can save graph data to xx.bin files, like:"
   ]
  },
  {
   "cell_type": "code",
   "execution_count": 18,
   "id": "c7900b83",
   "metadata": {},
   "outputs": [],
   "source": [
    "Loader_train.save_data(r'data/example', ['adsb_train.bin', 'slab_train.bin'])\n",
    "Loader_valid.save_data(r'data/example', ['adsb_valid.bin', 'slab_valid.bin'])"
   ]
  },
  {
   "cell_type": "markdown",
   "id": "d9f0614f",
   "metadata": {},
   "source": [
    "Use the **feature_lentgh_total** attribute on **Encoder_element** and **Encoder_edge** to view the length of features, these values are required parameters to initialize the model."
   ]
  },
  {
   "cell_type": "code",
   "execution_count": 19,
   "id": "a39459ac",
   "metadata": {},
   "outputs": [
    {
     "data": {
      "text/plain": [
       "60"
      ]
     },
     "execution_count": 19,
     "metadata": {},
     "output_type": "execute_result"
    }
   ],
   "source": [
    "Ef_node_slab.feature_lentgh_total"
   ]
  },
  {
   "cell_type": "code",
   "execution_count": 20,
   "id": "1020b028",
   "metadata": {},
   "outputs": [
    {
     "data": {
      "text/plain": [
       "9"
      ]
     },
     "execution_count": 20,
     "metadata": {},
     "output_type": "execute_result"
    }
   ],
   "source": [
    "Ef_edge_slab.feature_length_total"
   ]
  },
  {
   "cell_type": "code",
   "execution_count": 21,
   "id": "db143911",
   "metadata": {},
   "outputs": [
    {
     "data": {
      "text/plain": [
       "3"
      ]
     },
     "execution_count": 21,
     "metadata": {},
     "output_type": "execute_result"
    }
   ],
   "source": [
    "Ef_edge_adsb.feature_length_total"
   ]
  },
  {
   "cell_type": "markdown",
   "id": "21dbd9b0",
   "metadata": {},
   "source": [
    "## 2.2 train a ASGCNN\n",
    "Let us define a new ASGCNN model  "
   ]
  },
  {
   "cell_type": "code",
   "execution_count": 22,
   "id": "2f33bb94",
   "metadata": {},
   "outputs": [],
   "source": [
    "Model = ASGCNN(node_feat_length_adsb=60,# adsorbate-site graph feature length\n",
    "               edge_feat_length_adsb=9,\n",
    "               embedding_length_adsb=60,\n",
    "               node_feat_length_slab=60,# slab graph feature length\n",
    "               edge_feat_length_slab=3,\n",
    "               embedding_length_slab=40,\n",
    "               conv_number=3,  # convolution layer number\n",
    "               fc_lens=[50, 20, 10], # fully connected layer (hidden layer) dimensions\n",
    "               mlp_acti='silu', # activation function\n",
    "               task_typ='regre',\n",
    "               p_droput=0) # dropout rate"
   ]
  },
  {
   "cell_type": "markdown",
   "id": "e6783df1",
   "metadata": {},
   "source": [
    "Finally, deliver the **Model** and **Graph_data_loader**s to a **Trainer**, and specified the **learning rate** and **metric**. **optimizer** and **scheduler** can also be specified when define a **Trainer**.\n",
    "\n",
    "For further clarification about **Trainer**, refer to:"
   ]
  },
  {
   "cell_type": "code",
   "execution_count": null,
   "id": "8e45113e",
   "metadata": {},
   "outputs": [],
   "source": [
    "help(Trainer)"
   ]
  },
  {
   "cell_type": "code",
   "execution_count": 23,
   "id": "e49de7e0",
   "metadata": {},
   "outputs": [],
   "source": [
    "t = Trainer(Model, Loader_train, Loader_valid, init_lr=0.01 , metric='mae')"
   ]
  },
  {
   "cell_type": "markdown",
   "id": "6fad0a63",
   "metadata": {},
   "source": [
    "Try train 10 epoch "
   ]
  },
  {
   "cell_type": "code",
   "execution_count": 24,
   "id": "77097e1b",
   "metadata": {},
   "outputs": [
    {
     "data": {
      "application/vnd.jupyter.widget-view+json": {
       "model_id": "",
       "version_major": 2,
       "version_minor": 0
      },
      "text/plain": [
       "Train epoch:   0%|          | 0/10 [00:00<?, ?e/s]"
      ]
     },
     "metadata": {},
     "output_type": "display_data"
    }
   ],
   "source": [
    "t.train(10)"
   ]
  },
  {
   "cell_type": "markdown",
   "id": "eb019509",
   "metadata": {},
   "source": [
    "Note that, at present, one can only use **show_result** and **calculate_static** to check training results, when all training, validation and test sets exist. Hence we do not show the training result for examples.  \n",
    "\n",
    "Trained model can be saved by:"
   ]
  },
  {
   "cell_type": "code",
   "execution_count": 25,
   "id": "74bfe640",
   "metadata": {},
   "outputs": [],
   "source": [
    "t.save(r'data/example/model')"
   ]
  },
  {
   "cell_type": "markdown",
   "id": "1b1ca8ea",
   "metadata": {},
   "source": [
    "## 2.3 train other model\n",
    "We also implemented frameworks of CGCNN and SGCNN, you can train these models to. Training process is the same as the former, you just need to change the model class.  \n",
    "\n",
    "Let us try to train a CGCNN model using the slab graph only."
   ]
  },
  {
   "cell_type": "code",
   "execution_count": 26,
   "id": "ad6a715c",
   "metadata": {},
   "outputs": [],
   "source": [
    "Model = CGCNN(node_feat_length=60,\n",
    "              edge_feat_length=3,\n",
    "              embed_feat_length=60,\n",
    "              conv_number=3, \n",
    "              fc_lens=[40,20],\n",
    "              mlp_acti='silu',\n",
    "              task_typ='regre',\n",
    "              p_droput=0)"
   ]
  },
  {
   "cell_type": "markdown",
   "id": "271763aa",
   "metadata": {},
   "source": [
    "Reload the slab graph data only, from the .bin file we just saved."
   ]
  },
  {
   "cell_type": "code",
   "execution_count": 27,
   "id": "93ec12c6",
   "metadata": {},
   "outputs": [],
   "source": [
    "Loader_train = Graph_data_loader(6)\n",
    "Loader_train.load_data(train_excel, [r'data/example/slab_train.bin'], target=target)\n",
    "\n",
    "Loader_valid = Graph_data_loader(6)\n",
    "Loader_valid.load_data(valid_excel, [r'data/example/slab_valid.bin'], target=target)"
   ]
  },
  {
   "cell_type": "markdown",
   "id": "cebfc4cd",
   "metadata": {},
   "source": [
    "Now, train the CGCNN model"
   ]
  },
  {
   "cell_type": "code",
   "execution_count": 28,
   "id": "56760173",
   "metadata": {},
   "outputs": [],
   "source": [
    "t = Trainer(Model, Loader_train, Loader_valid, init_lr=0.01 , metric='mae')"
   ]
  },
  {
   "cell_type": "code",
   "execution_count": 29,
   "id": "597eaab7",
   "metadata": {},
   "outputs": [
    {
     "data": {
      "application/vnd.jupyter.widget-view+json": {
       "model_id": "",
       "version_major": 2,
       "version_minor": 0
      },
      "text/plain": [
       "Train epoch:   0%|          | 0/10 [00:00<?, ?e/s]"
      ]
     },
     "metadata": {},
     "output_type": "display_data"
    }
   ],
   "source": [
    "t.train(10)"
   ]
  },
  {
   "cell_type": "markdown",
   "id": "2c517a11",
   "metadata": {},
   "source": [
    "## 2.4 snapshot - ensemble\n",
    "To use the [**snapshot ensemble**](https://arxiv.org/abs/1704.00109) (see also [Chinese interpretation](https://zhuanlan.zhihu.com/p/461565837)), using **.init_snapshot_ensembling**, this will change the **scheduler** on **Trainer**, and stored ensemble models during training process."
   ]
  },
  {
   "cell_type": "code",
   "execution_count": 30,
   "id": "4508633b",
   "metadata": {},
   "outputs": [],
   "source": [
    "t = Trainer(Model, Loader_train, Loader_valid, init_lr=0.01 , metric='mae')"
   ]
  },
  {
   "cell_type": "markdown",
   "id": "c7bdae2c",
   "metadata": {},
   "source": [
    "Define the number of models in the ensemble and after how many epochs a snapshot model is stored. Here, we use a **5-model** ensemble, with each model trained for **40 epochs**, resulting in a total training epoch count of **200**. You should increase the training epochs in a real session"
   ]
  },
  {
   "cell_type": "code",
   "execution_count": 31,
   "id": "557d691e",
   "metadata": {},
   "outputs": [],
   "source": [
    "t.init_snapshot_ensembling(cycle_time=5, epoch_each=40)"
   ]
  },
  {
   "cell_type": "code",
   "execution_count": 32,
   "id": "6b5c7cd0",
   "metadata": {},
   "outputs": [
    {
     "data": {
      "application/vnd.jupyter.widget-view+json": {
       "model_id": "",
       "version_major": 2,
       "version_minor": 0
      },
      "text/plain": [
       "Train epoch:   0%|          | 0/200 [00:00<?, ?e/s]"
      ]
     },
     "metadata": {},
     "output_type": "display_data"
    }
   ],
   "source": [
    "t.train(200)"
   ]
  },
  {
   "cell_type": "markdown",
   "id": "cab2565f",
   "metadata": {},
   "source": [
    "Now, let's check out the learning rate changing trend during the training process. You will find that the learning rate goes down to near zero every 40 epochs, and then returns to the initial learning rate. This process is repeated 5 times, and every time the learning rate approaches zero, a snapshot model is stored."
   ]
  },
  {
   "cell_type": "code",
   "execution_count": 33,
   "id": "87b075a9",
   "metadata": {},
   "outputs": [
    {
     "data": {
      "text/plain": [
       "[<matplotlib.lines.Line2D at 0x293ae0d0>]"
      ]
     },
     "execution_count": 33,
     "metadata": {},
     "output_type": "execute_result"
    },
    {
     "data": {
      "image/png": "[encoded data removed]",
      "text/plain": [
       "<Figure size 640x480 with 1 Axes>"
      ]
     },
     "metadata": {},
     "output_type": "display_data"
    }
   ],
   "source": [
    "plt.plot(t.lrs)"
   ]
  },
  {
   "cell_type": "markdown",
   "id": "f1eb6fa0",
   "metadata": {},
   "source": [
    "Now the prediction is the average prediction values of 5 models, and the standard deviation of these values can be used to measure uncertainty"
   ]
  },
  {
   "cell_type": "code",
   "execution_count": 34,
   "id": "81f34418",
   "metadata": {},
   "outputs": [],
   "source": [
    "yp, uq = t.predict(Loader_valid, return_uq=True)"
   ]
  },
  {
   "cell_type": "code",
   "execution_count": 35,
   "id": "d5d58cfc",
   "metadata": {},
   "outputs": [
    {
     "data": {
      "text/plain": [
       "array([[0.14517033],\n",
       "       [0.15950643],\n",
       "       [0.14959654]], dtype=float32)"
      ]
     },
     "execution_count": 35,
     "metadata": {},
     "output_type": "execute_result"
    }
   ],
   "source": [
    "uq"
   ]
  },
  {
   "cell_type": "markdown",
   "id": "a2bd4d5f",
   "metadata": {},
   "source": [
    "## 2.5 effective label density\n",
    "We also implemented the [**effective label density**](https://arxiv.org/abs/2102.09554) (see also [Chinese interpretation](https://zhuanlan.zhihu.com/p/369627086)) for regression task only. This will calculate a weight according to the target value distribution. The target values are divided into **different bins**, and the **probability distribution** is approximated by a **kernel function** Data points with low probability of target quantity distribution will have more weight. This make they have a greater impact on turing network parameters during training process.  \n",
    "\n",
    "To use this method, run **.get_effective_label_density** at **Graph_data_loader** once you have loaded you training data.  \n",
    "\n",
    "Since there are few data in the displayed cases, only two bins are given. When the data is enough, the effect will be more obvious."
   ]
  },
  {
   "cell_type": "code",
   "execution_count": 36,
   "id": "73b89d95",
   "metadata": {},
   "outputs": [],
   "source": [
    "Loader_train.get_effective_label_density(bin_number=2)"
   ]
  },
  {
   "cell_type": "markdown",
   "id": "d89fef7d",
   "metadata": {},
   "source": [
    "Weights of different bins can be check by"
   ]
  },
  {
   "cell_type": "code",
   "execution_count": 37,
   "id": "56a70730",
   "metadata": {},
   "outputs": [
    {
     "data": {
      "text/plain": [
       "tensor([[0.9952],\n",
       "        [1.0048]])"
      ]
     },
     "execution_count": 37,
     "metadata": {},
     "output_type": "execute_result"
    }
   ],
   "source": [
    "Loader_train.weights"
   ]
  },
  {
   "cell_type": "code",
   "execution_count": 38,
   "id": "07e2e83d",
   "metadata": {},
   "outputs": [
    {
     "data": {
      "text/plain": [
       "tensor([[ 0.3027],\n",
       "        [-1.2357],\n",
       "        [-0.3916],\n",
       "        [-1.3135],\n",
       "        [ 1.8882],\n",
       "        [-1.1804]])"
      ]
     },
     "execution_count": 38,
     "metadata": {},
     "output_type": "execute_result"
    }
   ],
   "source": [
    "Loader_train.target"
   ]
  },
  {
   "cell_type": "markdown",
   "id": "f3eed73c",
   "metadata": {},
   "source": [
    "According to the target values, the bin-seperate value should be 1.88 - -1.31 + -1.31 ~= 0.3,  min + (max-min) / bin_num   \n",
    "You can see that only 0.3027 and 1.8882 fall into the second bin, so they have a higher weight. The weights are so close because the default parameters for the kernel function are not suitable for this small data situation.  \n",
    "\n",
    "Use this data loader to train, the **effective label density** will be used to adjust the training result. This can only be used for a regression task. Now, let us define a new **Trainer** and choose the **wmae** metric."
   ]
  },
  {
   "cell_type": "code",
   "execution_count": 39,
   "id": "55876127",
   "metadata": {},
   "outputs": [],
   "source": [
    "t = Trainer(Model, Loader_train, Loader_valid, init_lr=0.01, metric='wmae')"
   ]
  },
  {
   "cell_type": "code",
   "execution_count": 40,
   "id": "b3ed4f87",
   "metadata": {},
   "outputs": [
    {
     "data": {
      "application/vnd.jupyter.widget-view+json": {
       "model_id": "",
       "version_major": 2,
       "version_minor": 0
      },
      "text/plain": [
       "Train epoch:   0%|          | 0/10 [00:00<?, ?e/s]"
      ]
     },
     "metadata": {},
     "output_type": "display_data"
    }
   ],
   "source": [
    "t.train(10)"
   ]
  },
  {
   "cell_type": "markdown",
   "id": "646dba51",
   "metadata": {},
   "source": [
    "Let's look at a more intuitive one, use the previous 500 verification sets as the training set, see how **effective label density** works now. For different data sets you need to **adjust the hyperparameters** to get better results."
   ]
  },
  {
   "cell_type": "code",
   "execution_count": 10,
   "id": "b8c453bf",
   "metadata": {},
   "outputs": [],
   "source": [
    "target=['Gads']\n",
    "excel = 'data/Valid_data_500.csv'\n",
    "Encoders = ['data/Graph_slab_valid.bin']\n",
    "Loader = Graph_data_loader(500)\n",
    "Loader.load_data(excel, Encoders, target=target)"
   ]
  },
  {
   "cell_type": "code",
   "execution_count": 21,
   "id": "2fed38de",
   "metadata": {},
   "outputs": [],
   "source": [
    "Loader.get_effective_label_density(bin_number=30)"
   ]
  },
  {
   "cell_type": "markdown",
   "id": "e57101fe",
   "metadata": {},
   "source": [
    "We split different target values into 30 bins, you can see that most of the target quantities are distributed in the middle."
   ]
  },
  {
   "cell_type": "code",
   "execution_count": 38,
   "id": "682c6379",
   "metadata": {},
   "outputs": [
    {
     "data": {
      "text/plain": [
       "Text(0, 0.5, 'Effective label density')"
      ]
     },
     "execution_count": 38,
     "metadata": {},
     "output_type": "execute_result"
    },
    {
     "data": {
      "image/png": "[encoded data removed]",
      "text/plain": [
       "<Figure size 640x480 with 1 Axes>"
      ]
     },
     "metadata": {},
     "output_type": "display_data"
    }
   ],
   "source": [
    "plt.plot(range(len(Loader.effective_label_density)), Loader.effective_label_density, marker='o')\n",
    "plt.xlabel('Target value distribution range'); plt.ylabel('Effective label density')"
   ]
  },
  {
   "cell_type": "markdown",
   "id": "4c6acb09",
   "metadata": {},
   "source": [
    "In this case, the data points with target value distributed in the center will get a smaller weight, and data points on the two sides will have a larger weight"
   ]
  },
  {
   "cell_type": "code",
   "execution_count": 39,
   "id": "ae54a396",
   "metadata": {},
   "outputs": [
    {
     "data": {
      "text/plain": [
       "Text(0, 0.5, 'Weight')"
      ]
     },
     "execution_count": 39,
     "metadata": {},
     "output_type": "execute_result"
    },
    {
     "data": {
      "image/png": "[encoded data removed]",
      "text/plain": [
       "<Figure size 640x480 with 1 Axes>"
      ]
     },
     "metadata": {},
     "output_type": "display_data"
    }
   ],
   "source": [
    "plt.scatter(range(len(Loader.effective_label_density)), Loader.weights)\n",
    "plt.xlabel('Target value distribution range'); plt.ylabel('Weight')"
   ]
  },
  {
   "cell_type": "markdown",
   "id": "83ee0dfe",
   "metadata": {},
   "source": [
    "## 2.6 hyperparameter tuning\n",
    "We using [**hyperopt**](http://hyperopt.github.io/hyperopt/) (see also [Chinese interpretation](https://cloud.tencent.com/developer/article/2009339)) to tune hyperparameters, an example is as follow. It can run directly, need some adjustment by youself."
   ]
  },
  {
   "cell_type": "code",
   "execution_count": null,
   "id": "c68939c4",
   "metadata": {},
   "outputs": [],
   "source": [
    "import hyperopt\n",
    "from hyperopt import hp, fmin, tpe, Trials, partial\n",
    "from hyperopt.early_stop import no_progress_loss\n",
    "from ASGCNN.Trainer import setup_seed, HybLoss"
   ]
  },
  {
   "cell_type": "code",
   "execution_count": null,
   "id": "4f357dac",
   "metadata": {},
   "outputs": [],
   "source": [
    "# define search space\n",
    "search_params={\n",
    "   'conv_num': hp.choice('conv_num',[1,2,3,4,5]),\n",
    "   'adsb_eml': hp.quniform('adsb_eml',60,201,10),\n",
    "   'slab_eml': hp.quniform('slab_eml',60,201,10),\n",
    "   'fcly_1em': hp.quniform('fcly_1em',60,201,10),\n",
    "   'fcly_2em': hp.quniform('fcly_2em',10,161,10),\n",
    "   'fcly_3em': hp.quniform('fcly_3em',10,101,10),\n",
    "   'loss_w': hp.uniform('loss_w',0.001,1),\n",
    "}\n",
    "\n",
    "# define objective function\n",
    "def run_opt_in_para_set(params):\n",
    "    setup_seed(123456) # fix seed for repeatable and comparable results\n",
    "    Loader_train, Loader_valid, Loader_test = load_data() # load_data() is a function taht encapsulates the process of loading the datasets\n",
    "   \n",
    "    Loader_train.batch_size=256 # set batch_szie, this can also be a hyperparameter\n",
    "    # define the model\n",
    "    fcl = [int(params['fcly_1em']),int(params['fcly_2em']),int(params['fcly_3em'])]\n",
    "    SA = AGCNN(101,6,int(params['adsb_eml']),101,8,int(params['slab_eml']),params['conv_num'],fcl,'Ce')\n",
    "    # deinfe the trainer\n",
    "    t=Trainer(SA, Loader_train, Loader_valid, Loader_test, init_lr=0.01, # lr can also be a hyperparameter\n",
    "              metric='hyb', metric_para=params['loss_w'], 'AdamW', 'cos', 200)\n",
    "    t.train_(100)\n",
    "   \n",
    "    return t.calculate_static()['valid']['mae']\n",
    "\n",
    "# define search process\n",
    "def param_hyperopt(max_evals=66):\n",
    "    trials=Trials()\n",
    "   \n",
    "    early_stop=no_progress_loss(100)\n",
    "   \n",
    "    params_best= fmin(run_opt_in_para_set,\n",
    "                   space=search_params,\n",
    "                   algo=tpe.suggest,\n",
    "                   max_evals=max_evals,\n",
    "                   verbose=True,\n",
    "                   trials=trials,\n",
    "                   early_stop_fn=early_stop)\n",
    "    return params_best, trials"
   ]
  },
  {
   "cell_type": "code",
   "execution_count": null,
   "id": "b2b2a8d0",
   "metadata": {},
   "outputs": [],
   "source": [
    "# run hyperparameter search with 360 evals\n",
    "param_hyperopt(360)"
   ]
  }
 ],
 "metadata": {
  "kernelspec": {
   "display_name": "Python 3 (ipykernel)",
   "language": "python",
   "name": "python3"
  },
  "language_info": {
   "codemirror_mode": {
    "name": "ipython",
    "version": 3
   },
   "file_extension": ".py",
   "mimetype": "text/x-python",
   "name": "python",
   "nbconvert_exporter": "python",
   "pygments_lexer": "ipython3",
   "version": "3.8.3"
  },
  "toc": {
   "base_numbering": 1,
   "nav_menu": {},
   "number_sections": true,
   "sideBar": true,
   "skip_h1_title": false,
   "title_cell": "Table of Contents",
   "title_sidebar": "Contents",
   "toc_cell": false,
   "toc_position": {},
   "toc_section_display": true,
   "toc_window_display": false
  }
 },
 "nbformat": 4,
 "nbformat_minor": 5
}
