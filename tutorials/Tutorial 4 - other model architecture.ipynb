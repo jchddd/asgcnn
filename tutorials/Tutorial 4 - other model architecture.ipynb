{
 "cells": [
  {
   "cell_type": "code",
   "execution_count": 1,
   "id": "c46e9850",
   "metadata": {},
   "outputs": [],
   "source": [
    "from ASGCNN.Encoder import Encoder_structure, Encoder_element, Encoder_edge, Encoder_angle, Graph_data_loader\n",
    "from ASGCNN.Trainer import Trainer, setup_seed\n",
    "from ASGCNN.Model import CGCNN\n",
    "\n",
    "import zipfile\n",
    "import pandas as pd"
   ]
  },
  {
   "cell_type": "markdown",
   "id": "eb01e070",
   "metadata": {},
   "source": [
    "Here we show the other model architectures supported by the code in addition to ASGCNN.  \n",
    "# CGCNN\n",
    "In addition to **ASGCNN**, you can also import [**CGCNN**](https://journals.aps.org/prl/abstract/10.1103/PhysRevLett.120.145301) module from **Model** script. This module is the same as ASGCNN, except that its input supports only one graph structure. The two graphs in the ASGCNN can also have different graph structures, for example, the slab graph and bulk graph in [**SGCNN**](https://pubs.acs.org/doi/10.1021/acs.chemmater.9b03686).  \n",
    "\n",
    "Let us try to train a **CGCNN** model to predict **formation energy**, **e above hull** and **lattice constant** for Heusler alloy. \n",
    "If you want to train only **one target**, change the **target** parameters in **Graph_data_loader**, the **regre_dim** parameters in the model, and **metric**, **target_dims** parameters in the **Trainer**.  \n",
    "\n",
    "First define **Encoder_structure** , **Encoder_element** and **Encoder_edge**.   "
   ]
  },
  {
   "cell_type": "code",
   "execution_count": 3,
   "id": "66dc245d",
   "metadata": {},
   "outputs": [],
   "source": [
    "Es = Encoder_structure(cutoff=3.36)\n",
    "En = Encoder_element(features=['atomic number', 'group', 'period'])# ,elements=['Fe',.......]\n",
    "Ee = Encoder_edge(features=['radiusg'])"
   ]
  },
  {
   "cell_type": "markdown",
   "id": "430c913a",
   "metadata": {},
   "source": [
    "Then unzip the bulk structure files and build the dataset by **Graph_data_loader**."
   ]
  },
  {
   "cell_type": "code",
   "execution_count": 3,
   "id": "194a9845",
   "metadata": {},
   "outputs": [
    {
     "data": {
      "application/vnd.jupyter.widget-view+json": {
       "model_id": "",
       "version_major": 2,
       "version_minor": 0
      },
      "text/plain": [
       "Load graph:   0%|          | 0/1000 [00:00<?, ?g/s]"
      ]
     },
     "metadata": {},
     "output_type": "display_data"
    },
    {
     "data": {
      "application/vnd.jupyter.widget-view+json": {
       "model_id": "",
       "version_major": 2,
       "version_minor": 0
      },
      "text/plain": [
       "Load graph:   0%|          | 0/134 [00:00<?, ?g/s]"
      ]
     },
     "metadata": {},
     "output_type": "display_data"
    }
   ],
   "source": [
    "# unzip bulk structure file\n",
    "with zipfile.ZipFile(r'structures/All_bulk_fix_lattice.zip', 'r') as zip_ref:\n",
    "    zip_ref.extractall(r'structures/bulk_structures')\n",
    "\n",
    "# setyp random seed\n",
    "setup_seed(4311)\n",
    "\n",
    "# build training set\n",
    "Loader_train_bulk = Graph_data_loader(250)\n",
    "Loader_train_bulk.load_data(\n",
    "    data_excel='data/Bulk_train_1000.xlsx', \n",
    "    encoders=[Es], \n",
    "    file_paths=['structures/bulk_structures'], \n",
    "    file_columns=['composition'], \n",
    "    target=['E_formation', 'lattice_constant', 'E_above_hull'])\n",
    "\n",
    "# build validation set\n",
    "Loader_valid_bulk = Graph_data_loader(134)\n",
    "Loader_valid_bulk.load_data(\n",
    "    data_excel='data/Bulk_valid_134.xlsx', \n",
    "    encoders=[Es], \n",
    "    file_paths=['structures/bulk_structures'], \n",
    "    file_columns=['composition'], \n",
    "    target=['E_formation', 'lattice_constant', 'E_above_hull'])"
   ]
  },
  {
   "cell_type": "code",
   "execution_count": 4,
   "id": "bda18197",
   "metadata": {},
   "outputs": [
    {
     "data": {
      "application/vnd.jupyter.widget-view+json": {
       "model_id": "",
       "version_major": 2,
       "version_minor": 0
      },
      "text/plain": [
       "Apply feature:   0%|          | 0/1000 [00:00<?, ?g/s]"
      ]
     },
     "metadata": {},
     "output_type": "display_data"
    },
    {
     "data": {
      "application/vnd.jupyter.widget-view+json": {
       "model_id": "",
       "version_major": 2,
       "version_minor": 0
      },
      "text/plain": [
       "Apply feature:   0%|          | 0/134 [00:00<?, ?g/s]"
      ]
     },
     "metadata": {},
     "output_type": "display_data"
    }
   ],
   "source": [
    "# apply node and edge features\n",
    "Loader_train_bulk.apply_feature(\n",
    "    encoder_element=[En],\n",
    "    encoder_edge=[Ee])\n",
    "\n",
    "Loader_valid_bulk.apply_feature(\n",
    "    encoder_element=[En],\n",
    "    encoder_edge=[Ee])"
   ]
  },
  {
   "cell_type": "markdown",
   "id": "84a15201",
   "metadata": {},
   "source": [
    "Now, we can define a CGCNN model and train it.  \n",
    "\n",
    "More details about model can be found at:"
   ]
  },
  {
   "cell_type": "code",
   "execution_count": null,
   "id": "68a20baa",
   "metadata": {},
   "outputs": [],
   "source": [
    "help(CGCNN.__init__)"
   ]
  },
  {
   "cell_type": "code",
   "execution_count": 6,
   "id": "4de33e73",
   "metadata": {},
   "outputs": [],
   "source": [
    "model = CGCNN(\n",
    "    node_feat_length=En.feature_lentgh_total,\n",
    "    edge_feat_length=Ee.feature_length_total,\n",
    "    embed_feat_length=20,\n",
    "    conv_num=3,\n",
    "    fcl_dims=[20, 10],\n",
    "    mlp_acti='sigmoid',\n",
    "    task_typ='regre',\n",
    "    regre_dim=[3])"
   ]
  },
  {
   "cell_type": "code",
   "execution_count": 7,
   "id": "3714b11c",
   "metadata": {},
   "outputs": [],
   "source": [
    "t = Trainer(\n",
    "    Module=model,\n",
    "    Dataloader_train=Loader_train_bulk, \n",
    "    Dataloader_valid=Loader_valid_bulk,\n",
    "    init_lr=0.1,\n",
    "    metric='hyb',\n",
    "    metric_para={'weight':[1,1,1]},\n",
    "    scheduler_para=200,\n",
    "    target_dims=[1,1,1])"
   ]
  },
  {
   "cell_type": "code",
   "execution_count": 8,
   "id": "98b5b40e",
   "metadata": {},
   "outputs": [
    {
     "data": {
      "application/vnd.jupyter.widget-view+json": {
       "model_id": "",
       "version_major": 2,
       "version_minor": 0
      },
      "text/plain": [
       "Train epoch:   0%|          | 0/200 [00:00<?, ?e/s]"
      ]
     },
     "metadata": {},
     "output_type": "display_data"
    }
   ],
   "source": [
    "t.train(200)"
   ]
  },
  {
   "cell_type": "markdown",
   "id": "6dacf421",
   "metadata": {},
   "source": [
    "Let us check out training results"
   ]
  },
  {
   "cell_type": "code",
   "execution_count": 9,
   "id": "b3e3a79f",
   "metadata": {},
   "outputs": [
    {
     "data": {
      "text/plain": [
       "{'train': {'r2_0': 0.9872722803704762,\n",
       "  'mae_0': 0.020677708,\n",
       "  'mse_0': 0.000753371,\n",
       "  'rmse_0': 0.027447604,\n",
       "  'r2_1': 0.9953073971370053,\n",
       "  'mae_1': 0.01601635,\n",
       "  'mse_1': 0.00043252602,\n",
       "  'rmse_1': 0.02079726,\n",
       "  'r2_2': 0.9644875794697341,\n",
       "  'mae_2': 0.022361603,\n",
       "  'mse_2': 0.00084384164,\n",
       "  'rmse_2': 0.029048953},\n",
       " 'valid': {'r2_0': 0.9130245446040459,\n",
       "  'mae_0': 0.049856547,\n",
       "  'mse_0': 0.0046115927,\n",
       "  'rmse_0': 0.06790871,\n",
       "  'r2_1': 0.9858490854809067,\n",
       "  'mae_1': 0.02502314,\n",
       "  'mse_1': 0.0010812392,\n",
       "  'rmse_1': 0.032882202,\n",
       "  'r2_2': 0.8284518134471838,\n",
       "  'mae_2': 0.04527507,\n",
       "  'mse_2': 0.0033776544,\n",
       "  'rmse_2': 0.05811759},\n",
       " 'test': {}}"
      ]
     },
     "execution_count": 9,
     "metadata": {},
     "output_type": "execute_result"
    }
   ],
   "source": [
    "t.calculate_static()"
   ]
  },
  {
   "cell_type": "markdown",
   "id": "c535edfa",
   "metadata": {},
   "source": [
    "It can be seen that the model has the most accurate prediction of the **second target (lattice constant)**, and the prediction ability of **formation energy** is second, and it is hard to predict **energy above hull**.   \n",
    "\n",
    "Let's take a look at the training result of formation energy by **parity plot**"
   ]
  },
  {
   "cell_type": "code",
   "execution_count": 10,
   "id": "21467a14",
   "metadata": {},
   "outputs": [
    {
     "data": {
      "image/png": "[encoded data removed]",
      "text/plain": [
       "<Figure size 600x600 with 1 Axes>"
      ]
     },
     "metadata": {},
     "output_type": "display_data"
    }
   ],
   "source": [
    "t.show_result(ti=0)"
   ]
  },
  {
   "cell_type": "markdown",
   "id": "9d809187",
   "metadata": {},
   "source": [
    "# Multy fully connection layers\n",
    "\n",
    "By setting **fcl_dims** to a list of lists, the model can use more than one fully connection layers to predict the target values.  \n",
    "\n",
    "In this case, the number of dimensions of target needs to be the same as the number of fully connected layers, and you can pass in an empty list at this point to represent predictions directly from the pooled features.  \n",
    "\n",
    "The previous model predicted E_above_hull poorly, now let's try to predict each of the three target values using three different fully connected layers. And give E_above_hull's prediction a deeper fully connection layer and a higher **weight** in the loss function (metric)."
   ]
  },
  {
   "cell_type": "code",
   "execution_count": 12,
   "id": "7341ab08",
   "metadata": {},
   "outputs": [],
   "source": [
    "model = CGCNN(\n",
    "    node_feat_length=En.feature_lentgh_total,\n",
    "    edge_feat_length=Ee.feature_length_total,\n",
    "    embed_feat_length=20,\n",
    "    conv_num=3,\n",
    "    fcl_dims=[[10],[],[50,30,10]], # multy fully connection layers\n",
    "    mlp_acti='sigmoid',\n",
    "    task_typ='regre',\n",
    "    regre_dim=[1,1,1])\n",
    "\n",
    "t = Trainer(\n",
    "    Module=model,\n",
    "    Dataloader_train=Loader_train_bulk, \n",
    "    Dataloader_valid=Loader_valid_bulk,\n",
    "    init_lr=0.1,\n",
    "    metric='hyb',\n",
    "    metric_para={'weight':[0.6,0.1,2]}, # different weight for each target\n",
    "    scheduler_para=200,\n",
    "    target_dims=[1,1,1])"
   ]
  },
  {
   "cell_type": "code",
   "execution_count": 13,
   "id": "a5906764",
   "metadata": {},
   "outputs": [
    {
     "data": {
      "application/vnd.jupyter.widget-view+json": {
       "model_id": "",
       "version_major": 2,
       "version_minor": 0
      },
      "text/plain": [
       "Train epoch:   0%|          | 0/200 [00:00<?, ?e/s]"
      ]
     },
     "metadata": {},
     "output_type": "display_data"
    }
   ],
   "source": [
    "t.train(200)"
   ]
  },
  {
   "cell_type": "markdown",
   "id": "42d8090b",
   "metadata": {},
   "source": [
    "It can be seen that the R$^2$ score of the modified model for E_above_hull in the training set and the validation set increases from 0.964 to 0.988 and from 0.828 to 0.857 respectively"
   ]
  },
  {
   "cell_type": "code",
   "execution_count": 14,
   "id": "9604a9cb",
   "metadata": {},
   "outputs": [
    {
     "data": {
      "text/plain": [
       "{'train': {'r2_0': 0.985240121718915,\n",
       "  'mae_0': 0.022731295,\n",
       "  'mse_0': 0.00087365723,\n",
       "  'rmse_0': 0.029557694,\n",
       "  'r2_1': 0.9767315679071257,\n",
       "  'mae_1': 0.036942746,\n",
       "  'mse_1': 0.0021446953,\n",
       "  'rmse_1': 0.046310853,\n",
       "  'r2_2': 0.9880021333564127,\n",
       "  'mae_2': 0.013238086,\n",
       "  'mse_2': 0.00028509178,\n",
       "  'rmse_2': 0.01688466},\n",
       " 'valid': {'r2_0': 0.9287483230023436,\n",
       "  'mae_0': 0.048100315,\n",
       "  'mse_0': 0.00377789,\n",
       "  'rmse_0': 0.061464544,\n",
       "  'r2_1': 0.9537519077361639,\n",
       "  'mae_1': 0.046474356,\n",
       "  'mse_1': 0.0035337117,\n",
       "  'rmse_1': 0.05944503,\n",
       "  'r2_2': 0.8572064450859099,\n",
       "  'mae_2': 0.038683478,\n",
       "  'mse_2': 0.0028114973,\n",
       "  'rmse_2': 0.053023554},\n",
       " 'test': {}}"
      ]
     },
     "execution_count": 14,
     "metadata": {},
     "output_type": "execute_result"
    }
   ],
   "source": [
    "t.calculate_static()"
   ]
  },
  {
   "cell_type": "markdown",
   "id": "386003c3",
   "metadata": {},
   "source": [
    "# Global feature\n",
    "You can use **add_global_feat** in the **Graph_data_loader** to add global feature to graphs as in the [**SE-CGCNN**](https://d.wanfangdata.com.cn/periodical/gsyxb202302012) and [**MEGNet**](https://pubs.acs.org/doi/10.1021/acs.chemmater.9b01294). Global feature can concatenate directly onto node or edge features, or add to graph first, then concatenate to the pooling feature or the linear final for prediction in fully connection layers during the training process (When a global feature is added and you have two types of graphs, it will be added to the last graph).   \n",
    "\n",
    "After adding global features you can also use the **MGConv** convolution layer to update global features and use them in the messaging passing process.\n",
    "\n",
    "More details can be found at:"
   ]
  },
  {
   "cell_type": "code",
   "execution_count": null,
   "id": "3050b36c",
   "metadata": {},
   "outputs": [],
   "source": [
    "help(Graph_data_loader.add_global_feat)"
   ]
  },
  {
   "cell_type": "markdown",
   "id": "2386164d",
   "metadata": {},
   "source": [
    "Now we try to predict the formation energy with lattice constants and energy above hull as global features.  \n",
    "Reload the data with one target:"
   ]
  },
  {
   "cell_type": "code",
   "execution_count": 15,
   "id": "ae95d015",
   "metadata": {},
   "outputs": [
    {
     "data": {
      "application/vnd.jupyter.widget-view+json": {
       "model_id": "",
       "version_major": 2,
       "version_minor": 0
      },
      "text/plain": [
       "Load graph:   0%|          | 0/1000 [00:00<?, ?g/s]"
      ]
     },
     "metadata": {},
     "output_type": "display_data"
    },
    {
     "data": {
      "application/vnd.jupyter.widget-view+json": {
       "model_id": "",
       "version_major": 2,
       "version_minor": 0
      },
      "text/plain": [
       "Load graph:   0%|          | 0/134 [00:00<?, ?g/s]"
      ]
     },
     "metadata": {},
     "output_type": "display_data"
    },
    {
     "data": {
      "application/vnd.jupyter.widget-view+json": {
       "model_id": "",
       "version_major": 2,
       "version_minor": 0
      },
      "text/plain": [
       "Apply feature:   0%|          | 0/1000 [00:00<?, ?g/s]"
      ]
     },
     "metadata": {},
     "output_type": "display_data"
    },
    {
     "data": {
      "application/vnd.jupyter.widget-view+json": {
       "model_id": "",
       "version_major": 2,
       "version_minor": 0
      },
      "text/plain": [
       "Apply feature:   0%|          | 0/134 [00:00<?, ?g/s]"
      ]
     },
     "metadata": {},
     "output_type": "display_data"
    }
   ],
   "source": [
    "# build validation set\n",
    "Loader_train_bulk = Graph_data_loader(250)\n",
    "Loader_train_bulk.load_data(\n",
    "    data_excel='data/Bulk_train_1000.xlsx', \n",
    "    encoders=[Es], \n",
    "    file_paths=['structures/bulk_structures'], \n",
    "    file_columns=['composition'], \n",
    "    target=['E_formation'])\n",
    "\n",
    "# build validation set\n",
    "Loader_valid_bulk = Graph_data_loader(134)\n",
    "Loader_valid_bulk.load_data(\n",
    "    data_excel='data/Bulk_valid_134.xlsx', \n",
    "    encoders=[Es], \n",
    "    file_paths=['structures/bulk_structures'], \n",
    "    file_columns=['composition'], \n",
    "    target=['E_formation'])\n",
    "\n",
    "# apply node and edge features\n",
    "Loader_train_bulk.apply_feature(\n",
    "    encoder_element=[En],\n",
    "    encoder_edge=[Ee])\n",
    "\n",
    "Loader_valid_bulk.apply_feature(\n",
    "    encoder_element=[En],\n",
    "    encoder_edge=[Ee])"
   ]
  },
  {
   "cell_type": "markdown",
   "id": "051c2f51",
   "metadata": {},
   "source": [
    "Get numpy format features from the table and add them to the dataset"
   ]
  },
  {
   "cell_type": "code",
   "execution_count": 16,
   "id": "f4773743",
   "metadata": {},
   "outputs": [
    {
     "data": {
      "text/plain": [
       "array([[-0.63634772,  0.00212674],\n",
       "       [-0.02319799,  0.41365819],\n",
       "       [-0.82380039,  0.00633029],\n",
       "       ...,\n",
       "       [-0.37319613,  0.01472392],\n",
       "       [-0.52834174,  0.24321792],\n",
       "       [-0.28996478,  0.18311992]])"
      ]
     },
     "execution_count": 16,
     "metadata": {},
     "output_type": "execute_result"
    }
   ],
   "source": [
    "df_train = pd.read_excel(r'data/Bulk_train_1000.xlsx',index_col=0)\n",
    "df_valid = pd.read_excel(r'data/Bulk_valid_134.xlsx', index_col=0)\n",
    "df_train[['E_formation', 'E_above_hull']].values"
   ]
  },
  {
   "cell_type": "code",
   "execution_count": 17,
   "id": "adb718fb",
   "metadata": {},
   "outputs": [],
   "source": [
    "# add global feature to graph\n",
    "Loader_train_bulk.add_global_feat(df_train[['E_formation', 'E_above_hull']].values)\n",
    "Loader_valid_bulk.add_global_feat(df_valid[['E_formation', 'E_above_hull']].values)"
   ]
  },
  {
   "cell_type": "markdown",
   "id": "01bccf89",
   "metadata": {},
   "source": [
    "Add parameters related to global features when defining the model. If the global feature is concatenated to the node or edge feature, modify the length parameter of the node and edge feature."
   ]
  },
  {
   "cell_type": "code",
   "execution_count": 18,
   "id": "a0dab83b",
   "metadata": {},
   "outputs": [],
   "source": [
    "model = CGCNN(\n",
    "    node_feat_length=En.feature_lentgh_total,\n",
    "    edge_feat_length=Ee.feature_length_total,\n",
    "    embed_feat_length=20,\n",
    "    conv_num=3,\n",
    "    conv_typ='MGConv',\n",
    "    fcl_dims=[[60,30,10]],\n",
    "    mlp_acti='sigmoid',\n",
    "    task_typ='regre',\n",
    "    regre_dim=[1],\n",
    "    use_global_feat=True,\n",
    "    global_feat_place='pool',\n",
    "    global_feat_dim=2,\n",
    ")\n",
    "\n",
    "t = Trainer(\n",
    "    Module=model,\n",
    "    Dataloader_train=Loader_train_bulk, \n",
    "    Dataloader_valid=Loader_valid_bulk,\n",
    "    init_lr=0.1,\n",
    "    metric='mae',\n",
    "    scheduler_para=200,\n",
    "    target_dims=[1])"
   ]
  },
  {
   "cell_type": "code",
   "execution_count": 19,
   "id": "c222bede",
   "metadata": {},
   "outputs": [
    {
     "data": {
      "application/vnd.jupyter.widget-view+json": {
       "model_id": "",
       "version_major": 2,
       "version_minor": 0
      },
      "text/plain": [
       "Train epoch:   0%|          | 0/200 [00:00<?, ?e/s]"
      ]
     },
     "metadata": {},
     "output_type": "display_data"
    }
   ],
   "source": [
    "t.train(200)"
   ]
  },
  {
   "cell_type": "markdown",
   "id": "4056b507",
   "metadata": {},
   "source": [
    "Compared with the previous model, this model can predict the formation energy much better"
   ]
  },
  {
   "cell_type": "code",
   "execution_count": 20,
   "id": "bf273e2c",
   "metadata": {},
   "outputs": [
    {
     "data": {
      "text/plain": [
       "{'train': {'r2_0': 0.9995491099102164,\n",
       "  'mae_0': 0.0037091132,\n",
       "  'mse_0': 2.6688796e-05,\n",
       "  'rmse_0': 0.00516612},\n",
       " 'valid': {'r2_0': 0.9995860522866695,\n",
       "  'mae_0': 0.0035538722,\n",
       "  'mse_0': 2.1948243e-05,\n",
       "  'rmse_0': 0.0046848953},\n",
       " 'test': {}}"
      ]
     },
     "execution_count": 20,
     "metadata": {},
     "output_type": "execute_result"
    }
   ],
   "source": [
    "t.calculate_static()"
   ]
  },
  {
   "cell_type": "code",
   "execution_count": 21,
   "id": "11512ec5",
   "metadata": {},
   "outputs": [
    {
     "data": {
      "image/png": "[encoded data removed]",
      "text/plain": [
       "<Figure size 600x600 with 1 Axes>"
      ]
     },
     "metadata": {},
     "output_type": "display_data"
    }
   ],
   "source": [
    "t.show_result()"
   ]
  },
  {
   "cell_type": "markdown",
   "id": "482d9eff",
   "metadata": {},
   "source": [
    "# Line graph\n",
    "You can add additional **line graphs** to dataset, as is the case with [**ALIGNN**](https://www.nature.com/articles/s41524-021-00650-1). The line graph uses edges as nodes and angles as edges, so angle information can be introduced.  \n",
    "\n",
    "Now try using line graphs to increase the predictive power of formation energy. Before adding a line graph, you need to add edge features to the graph.   \n",
    "\n",
    "Line graph can be saved by setting **file_names_lg** on **save_data**, and loaded by **lg_bins** at **load_data**. Anyway, these line graph data are large and are not recommended to be saved. You can generate it when needed, or save it without adding angle feature.\n",
    "\n",
    "Rebuild data loaders at first:"
   ]
  },
  {
   "cell_type": "code",
   "execution_count": 22,
   "id": "8d1f608a",
   "metadata": {},
   "outputs": [
    {
     "data": {
      "application/vnd.jupyter.widget-view+json": {
       "model_id": "",
       "version_major": 2,
       "version_minor": 0
      },
      "text/plain": [
       "Load graph:   0%|          | 0/1000 [00:00<?, ?g/s]"
      ]
     },
     "metadata": {},
     "output_type": "display_data"
    },
    {
     "data": {
      "application/vnd.jupyter.widget-view+json": {
       "model_id": "",
       "version_major": 2,
       "version_minor": 0
      },
      "text/plain": [
       "Load graph:   0%|          | 0/134 [00:00<?, ?g/s]"
      ]
     },
     "metadata": {},
     "output_type": "display_data"
    },
    {
     "data": {
      "application/vnd.jupyter.widget-view+json": {
       "model_id": "",
       "version_major": 2,
       "version_minor": 0
      },
      "text/plain": [
       "Apply feature:   0%|          | 0/1000 [00:00<?, ?g/s]"
      ]
     },
     "metadata": {},
     "output_type": "display_data"
    },
    {
     "data": {
      "application/vnd.jupyter.widget-view+json": {
       "model_id": "",
       "version_major": 2,
       "version_minor": 0
      },
      "text/plain": [
       "Apply feature:   0%|          | 0/134 [00:00<?, ?g/s]"
      ]
     },
     "metadata": {},
     "output_type": "display_data"
    }
   ],
   "source": [
    "# build training set\n",
    "Loader_train_bulk = Graph_data_loader(250)\n",
    "Loader_train_bulk.load_data(\n",
    "    data_excel='data/Bulk_train_1000.xlsx', \n",
    "    encoders=[Es], \n",
    "    file_paths=['structures/bulk_structures'], \n",
    "    file_columns=['composition'], \n",
    "    target=['E_formation'])\n",
    "\n",
    "# build validation set\n",
    "Loader_valid_bulk = Graph_data_loader(134)\n",
    "Loader_valid_bulk.load_data(\n",
    "    data_excel='data/Bulk_valid_134.xlsx', \n",
    "    encoders=[Es], \n",
    "    file_paths=['structures/bulk_structures'], \n",
    "    file_columns=['composition'], \n",
    "    target=['E_formation'])\n",
    "\n",
    "# apply node and edge features\n",
    "Loader_train_bulk.apply_feature(\n",
    "    encoder_element=[En],\n",
    "    encoder_edge=[Ee])\n",
    "\n",
    "Loader_valid_bulk.apply_feature(\n",
    "    encoder_element=[En],\n",
    "    encoder_edge=[Ee])"
   ]
  },
  {
   "cell_type": "markdown",
   "id": "d6e71780",
   "metadata": {},
   "source": [
    "Using **add_line_graph** to add line graphs and then use **Encoder_angle** to define angle features. There are now two angular features to choose from: projecting the cos value onto a **Gaussian (gaussian)** or a **Fourier (fourier)** basis function."
   ]
  },
  {
   "cell_type": "code",
   "execution_count": 23,
   "id": "5d6778cf",
   "metadata": {},
   "outputs": [
    {
     "data": {
      "application/vnd.jupyter.widget-view+json": {
       "model_id": "",
       "version_major": 2,
       "version_minor": 0
      },
      "text/plain": [
       "Apply feature:   0%|          | 0/1000 [00:00<?, ?g/s]"
      ]
     },
     "metadata": {},
     "output_type": "display_data"
    },
    {
     "data": {
      "application/vnd.jupyter.widget-view+json": {
       "model_id": "",
       "version_major": 2,
       "version_minor": 0
      },
      "text/plain": [
       "Apply feature:   0%|          | 0/134 [00:00<?, ?g/s]"
      ]
     },
     "metadata": {},
     "output_type": "display_data"
    }
   ],
   "source": [
    "# generate line graph\n",
    "Loader_train_bulk.add_line_graph()\n",
    "Loader_valid_bulk.add_line_graph()\n",
    "\n",
    "# add angle feature\n",
    "Ea = Encoder_angle(features=['gaussian', 'fourier'])\n",
    "Loader_train_bulk.apply_feature_angle(encoder_angle=[Ea])\n",
    "Loader_valid_bulk.apply_feature_angle(encoder_angle=[Ea])"
   ]
  },
  {
   "cell_type": "markdown",
   "id": "10e9b61f",
   "metadata": {},
   "source": [
    "Enable line graph learning by adding the length of the **angle_feat_length** when defining the model.   \n",
    "\n",
    "In this case, the convolution layer type (**conv_type**) and the number of convolution times (**conv_number**) need to be defined in a list. Similar to the convolution method in **ALIGNN**, linear graph and graph are convolved sequentially with the first type convolution layer, then the graph is convolved multiple times individually with the second type convolution layer.   \n",
    "\n",
    "And note that some convolution layers like MGConv can not be used to update features on line graphs."
   ]
  },
  {
   "cell_type": "code",
   "execution_count": 24,
   "id": "d7be8651",
   "metadata": {},
   "outputs": [],
   "source": [
    "model = CGCNN(\n",
    "    node_feat_length=En.feature_lentgh_total,\n",
    "    edge_feat_length=Ee.feature_length_total,\n",
    "    angle_feat_length=Ea.feature_length_total,\n",
    "    embed_feat_length=20,\n",
    "    conv_typ=['EGate', 'CGConv'],\n",
    "    conv_num=[2, 3],\n",
    "    fcl_dims=[20,40,20],\n",
    "    mlp_acti='sigmoid',\n",
    "    task_typ='regre',\n",
    "    regre_dim=[1],\n",
    ")\n",
    "\n",
    "t = Trainer(\n",
    "    Module=model,\n",
    "    Dataloader_train=Loader_train_bulk, \n",
    "    Dataloader_valid=Loader_valid_bulk,\n",
    "    init_lr=0.1,\n",
    "    metric='mae',\n",
    "    metric_para={},\n",
    "    scheduler_para=200,\n",
    "    target_dims=[1])"
   ]
  },
  {
   "cell_type": "code",
   "execution_count": 25,
   "id": "b1ab80c1",
   "metadata": {},
   "outputs": [
    {
     "data": {
      "application/vnd.jupyter.widget-view+json": {
       "model_id": "",
       "version_major": 2,
       "version_minor": 0
      },
      "text/plain": [
       "Train epoch:   0%|          | 0/200 [00:00<?, ?e/s]"
      ]
     },
     "metadata": {},
     "output_type": "display_data"
    }
   ],
   "source": [
    "t.train(200)"
   ]
  },
  {
   "cell_type": "code",
   "execution_count": 26,
   "id": "81d46222",
   "metadata": {},
   "outputs": [
    {
     "data": {
      "text/plain": [
       "{'train': {'r2_0': 0.9972574334283643,\n",
       "  'mae_0': 0.009447935,\n",
       "  'mse_0': 0.00016233623,\n",
       "  'rmse_0': 0.012741123},\n",
       " 'valid': {'r2_0': 0.883592653705417,\n",
       "  'mae_0': 0.04957165,\n",
       "  'mse_0': 0.0061721243,\n",
       "  'rmse_0': 0.07856287},\n",
       " 'test': {}}"
      ]
     },
     "execution_count": 26,
     "metadata": {},
     "output_type": "execute_result"
    }
   ],
   "source": [
    "t.calculate_static()"
   ]
  },
  {
   "cell_type": "markdown",
   "id": "b621bd97",
   "metadata": {},
   "source": [
    "# Cluster pooling "
   ]
  },
  {
   "cell_type": "markdown",
   "id": "09e4b378",
   "metadata": {},
   "source": [
    "You can pool the features of only a subset of atomic nodes using **cluster pooling**. As in the [**BE-CGCNN**](https://www.nature.com/articles/s41467-023-38758-1) and [**LEPool-model**](https://linkinghub.elsevier.com/retrieve/pii/S2210271X23001433) model, only the node features of  adsorbed molecules and their adjacent atoms are considered.    \n",
    "\n",
    "To use this method, first run the **add_cluster_feat** method on the **Graph_data_loader**. This method is used to set which elements are pooled and whether to consider their surrounding atoms. This method is shown below to train a model that predicts adsorption energy:"
   ]
  },
  {
   "cell_type": "code",
   "execution_count": 36,
   "id": "8d69418f",
   "metadata": {},
   "outputs": [],
   "source": [
    "# load training set\n",
    "Loader_train_slab = Graph_data_loader(250)\n",
    "Loader_train_slab.load_data(\n",
    "    data_excel='data/Train_data_5000.csv', \n",
    "    encoders=['data/Graph_slab_train.bin'], \n",
    "    target=['Gads'])\n",
    "\n",
    "# load validation set\n",
    "Loader_valid_slab = Graph_data_loader(250)\n",
    "Loader_valid_slab.load_data(\n",
    "    data_excel='data/Valid_data_500.csv', \n",
    "    encoders=['data/Graph_slab_valid.bin'], \n",
    "    target=['Gads'])"
   ]
  },
  {
   "cell_type": "markdown",
   "id": "afaf543a",
   "metadata": {},
   "source": [
    "Because considering the surrounding atoms requires reloading the dataset under the new version, we pool only the nodes of the molecules here"
   ]
  },
  {
   "cell_type": "code",
   "execution_count": 37,
   "id": "581774f7",
   "metadata": {},
   "outputs": [],
   "source": [
    "Loader_train_slab.add_cluster_feat(element_in_cluster=[1, 7], include_neibor=False, cutoff=5)\n",
    "Loader_valid_slab.add_cluster_feat(element_in_cluster=[1, 7], include_neibor=False, cutoff=5)"
   ]
  },
  {
   "cell_type": "markdown",
   "id": "711949ce",
   "metadata": {},
   "source": [
    "set **pool_typ** to 'cluster'"
   ]
  },
  {
   "cell_type": "code",
   "execution_count": 40,
   "id": "88c79293",
   "metadata": {},
   "outputs": [],
   "source": [
    "model = CGCNN(\n",
    "    node_feat_length=Loader_train_slab.graphs[0][0].ndata['h_v'].shape[1],\n",
    "    edge_feat_length=Loader_train_slab.graphs[0][0].edata['h_e'].shape[1],\n",
    "    embed_feat_length=20,\n",
    "    conv_typ='EGate',\n",
    "    conv_num=3,\n",
    "    pool_typ='cluster',\n",
    "    fcl_dims=[40,20],\n",
    "    mlp_acti='sigmoid',\n",
    "    task_typ='regre',\n",
    "    regre_dim=[1],\n",
    ")\n",
    "\n",
    "t = Trainer(\n",
    "    Module=model,\n",
    "    Dataloader_train=Loader_train_slab, \n",
    "    Dataloader_valid=Loader_valid_slab,\n",
    "    init_lr=0.1,\n",
    "    metric='mae',\n",
    "    metric_para={},\n",
    "    scheduler_para=200,\n",
    "    target_dims=[1])"
   ]
  },
  {
   "cell_type": "code",
   "execution_count": 41,
   "id": "cb8d19b7",
   "metadata": {},
   "outputs": [
    {
     "data": {
      "application/vnd.jupyter.widget-view+json": {
       "model_id": "",
       "version_major": 2,
       "version_minor": 0
      },
      "text/plain": [
       "Train epoch:   0%|          | 0/200 [00:00<?, ?e/s]"
      ]
     },
     "metadata": {},
     "output_type": "display_data"
    }
   ],
   "source": [
    "t.train(200)"
   ]
  },
  {
   "cell_type": "markdown",
   "id": "3ae140b4",
   "metadata": {},
   "source": [
    "The results of training are not very good, indicating that the adsorption sites and neighboring atoms of molecules under the current task can not be ignored."
   ]
  },
  {
   "cell_type": "code",
   "execution_count": 42,
   "id": "c44a4f21",
   "metadata": {},
   "outputs": [
    {
     "data": {
      "text/plain": [
       "{'train': {'r2_0': 0.6746256113128579,\n",
       "  'mae_0': 0.49449292,\n",
       "  'mse_0': 0.47298706,\n",
       "  'rmse_0': 0.68774056},\n",
       " 'valid': {'r2_0': 0.7293389965202466,\n",
       "  'mae_0': 0.47000903,\n",
       "  'mse_0': 0.4036608,\n",
       "  'rmse_0': 0.6353431},\n",
       " 'test': {}}"
      ]
     },
     "execution_count": 42,
     "metadata": {},
     "output_type": "execute_result"
    }
   ],
   "source": [
    "t.calculate_static()"
   ]
  }
 ],
 "metadata": {
  "kernelspec": {
   "display_name": "Python 3 (ipykernel)",
   "language": "python",
   "name": "python3"
  },
  "language_info": {
   "codemirror_mode": {
    "name": "ipython",
    "version": 3
   },
   "file_extension": ".py",
   "mimetype": "text/x-python",
   "name": "python",
   "nbconvert_exporter": "python",
   "pygments_lexer": "ipython3",
   "version": "3.8.16"
  }
 },
 "nbformat": 4,
 "nbformat_minor": 5
}
